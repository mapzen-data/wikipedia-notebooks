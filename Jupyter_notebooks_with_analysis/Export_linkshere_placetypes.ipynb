{
 "cells": [
  {
   "cell_type": "code",
   "execution_count": 6,
   "metadata": {
    "collapsed": false
   },
   "outputs": [],
   "source": [
    "import networkx\n",
    "import PageRank\n",
    "import json\n",
    "import operator\n",
    "import os\n",
    "%matplotlib inline"
   ]
  },
  {
   "cell_type": "code",
   "execution_count": 2,
   "metadata": {
    "collapsed": true
   },
   "outputs": [],
   "source": [
    "import mpld3\n",
    "mpld3.enable_notebook()"
   ]
  },
  {
   "cell_type": "code",
   "execution_count": 3,
   "metadata": {
    "collapsed": false
   },
   "outputs": [],
   "source": [
    "import sys\n",
    "sys.path.append(\"..\")\n",
    "from all_functions import *"
   ]
  },
  {
   "cell_type": "markdown",
   "metadata": {},
   "source": [
    "### Import linkshere results"
   ]
  },
  {
   "cell_type": "code",
   "execution_count": 7,
   "metadata": {
    "collapsed": false
   },
   "outputs": [],
   "source": [
    "path_to_json = '..\\OUTPUTS_linkshere'\n",
    "json_files = [pos_json for pos_json in os.listdir(path_to_json) if pos_json.endswith('.json')]\n",
    "all_links_dict={}\n",
    "for js in json_files:\n",
    "    with open(os.path.join(path_to_json, js)) as json_file:\n",
    "        new_json=json.load(json_file)\n",
    "    all_links_dict.update(new_json)"
   ]
  },
  {
   "cell_type": "markdown",
   "metadata": {},
   "source": [
    "### Import ids and maching to names "
   ]
  },
  {
   "cell_type": "code",
   "execution_count": 10,
   "metadata": {
    "collapsed": true
   },
   "outputs": [],
   "source": [
    "wof_ids = read_data(\"..\\Analyzed_data\\\\final_titles_ids_all_status.csv\")"
   ]
  },
  {
   "cell_type": "code",
   "execution_count": 11,
   "metadata": {
    "collapsed": true
   },
   "outputs": [],
   "source": [
    "mapping_dic_wof_name={}\n",
    "for index, row in wof_ids.iterrows():\n",
    "    key = row['wk:page']\n",
    "    value = str(int(row['wof:id']))\n",
    "    mapping_dic_wof_name.update({key:value})\n",
    "\n",
    "mapping_dic_name_wof={}\n",
    "for index, row in wof_ids.iterrows():\n",
    "    key = str(int(row['wof:id']))\n",
    "    value = row['wk:page']\n",
    "    mapping_dic_name_wof.update({key:value})"
   ]
  },
  {
   "cell_type": "markdown",
   "metadata": {},
   "source": [
    "### Create wof:id linkshere "
   ]
  },
  {
   "cell_type": "code",
   "execution_count": 12,
   "metadata": {
    "collapsed": true
   },
   "outputs": [],
   "source": [
    "dictionary_wof_links={}\n",
    "for key, value in all_links_dict.iteritems():\n",
    "    try:\n",
    "        a = key.encode('utf8')\n",
    "        new_key=mapping_dic_wof_name[a]\n",
    "        dictionary_wof_links.update({new_key:value})\n",
    "    except KeyError:\n",
    "        pass"
   ]
  },
  {
   "cell_type": "markdown",
   "metadata": {},
   "source": [
    "### Discard names that were not cleaned up - see titles "
   ]
  },
  {
   "cell_type": "code",
   "execution_count": 14,
   "metadata": {
    "collapsed": true
   },
   "outputs": [],
   "source": [
    "import pickle\n",
    "with open('..\\Jupyter_notebooks_with_analysis\\\\names_do_not_want', 'rb') as f:\n",
    "    names_do_not_want = pickle.load(f)"
   ]
  },
  {
   "cell_type": "code",
   "execution_count": 15,
   "metadata": {
    "collapsed": true
   },
   "outputs": [],
   "source": [
    "wof_do_not_want = []\n",
    "for item in names_do_not_want:\n",
    "    wof = int(item)\n",
    "    wof_do_not_want.append(wof)\n",
    "    \n",
    "flattened = []\n",
    "for x in wof_do_not_want:\n",
    "    if type(x) is list:\n",
    "        flattened.extend(x)\n",
    "    else:\n",
    "        flattened.append(x)\n",
    "        \n",
    "names_set=set(flattened)"
   ]
  },
  {
   "cell_type": "code",
   "execution_count": 16,
   "metadata": {
    "collapsed": true
   },
   "outputs": [],
   "source": [
    "dictionary_wof_links_clean={}\n",
    "for key, value in dictionary_wof_links.iteritems():\n",
    "    if key in names_set:\n",
    "        pass\n",
    "    else:\n",
    "        dictionary_wof_links_clean.update({key:value})"
   ]
  },
  {
   "cell_type": "code",
   "execution_count": 20,
   "metadata": {
    "collapsed": true
   },
   "outputs": [],
   "source": [
    "with open('..\\Analyzed_data\\\\linkshere_wof_clean.json', 'w') as outfile:\n",
    "    json.dump(dictionary_wof_links_clean, outfile)"
   ]
  },
  {
   "cell_type": "markdown",
   "metadata": {},
   "source": [
    "### Create clean names -links "
   ]
  },
  {
   "cell_type": "code",
   "execution_count": 18,
   "metadata": {
    "collapsed": true
   },
   "outputs": [],
   "source": [
    "dictionary_names_links_clean={}\n",
    "for key, value in dictionary_wof_links_clean.iteritems():\n",
    "    try:\n",
    "        new_key=mapping_dic_name_wof[key]\n",
    "        dictionary_names_links_clean.update({new_key:value})\n",
    "    except KeyError:\n",
    "        pass"
   ]
  },
  {
   "cell_type": "code",
   "execution_count": 21,
   "metadata": {
    "collapsed": true
   },
   "outputs": [],
   "source": [
    "with open('..\\Analyzed_data\\\\linkshere_names_clean.json', 'w') as outfile:\n",
    "    json.dump(dictionary_names_links_clean, outfile)"
   ]
  },
  {
   "cell_type": "code",
   "execution_count": null,
   "metadata": {
    "collapsed": true
   },
   "outputs": [],
   "source": []
  },
  {
   "cell_type": "markdown",
   "metadata": {},
   "source": [
    "### Split by placetype "
   ]
  },
  {
   "cell_type": "code",
   "execution_count": 22,
   "metadata": {
    "collapsed": true
   },
   "outputs": [],
   "source": [
    "set_path_to_WOF_metafiles = 'C:\\Users\\Olga\\Documents\\MAPZEN_data\\whosonfirst-data\\meta'"
   ]
  },
  {
   "cell_type": "code",
   "execution_count": 25,
   "metadata": {
    "collapsed": false
   },
   "outputs": [],
   "source": [
    "wof_continents_latest=read_data(set_path_to_WOF_metafiles+\"\\wof-continent-latest.csv\")\n",
    "wof_country_latest=read_data(set_path_to_WOF_metafiles+\"\\wof-country-latest.csv\")\n",
    "wof_borough_latest=read_data(set_path_to_WOF_metafiles+\"\\wof-borough-latest.csv\")\n",
    "wof_campus_latest=read_data(set_path_to_WOF_metafiles+\"\\wof-campus-latest.csv\")\n",
    "wof_county_latest=read_data(set_path_to_WOF_metafiles+\"\\wof-county-latest.csv\")\n",
    "wof_locality_latest=read_data(set_path_to_WOF_metafiles+\"\\wof-locality-latest.csv\")\n",
    "wof_macrocounty_latest=read_data(set_path_to_WOF_metafiles+\"\\wof-macrocounty-latest.csv\")\n",
    "wof_macrohood_latest=read_data(set_path_to_WOF_metafiles+\"\\wof-macrohood-latest.csv\")\n",
    "wof_macroregion_latest=read_data(set_path_to_WOF_metafiles+\"\\wof-macroregion-latest.csv\")\n",
    "wof_marinearea_latest=read_data(set_path_to_WOF_metafiles+\"\\wof-marinearea-latest.csv\")\n",
    "wof_microhood_latest=read_data(set_path_to_WOF_metafiles+\"\\wof-microhood-latest.csv\")\n",
    "wof_neighbourhood_latest=read_data(set_path_to_WOF_metafiles+\"\\wof-neighbourhood-latest.csv\")\n",
    "wof_ocean_latest=read_data(set_path_to_WOF_metafiles+\"\\wof-ocean-latest.csv\")\n",
    "wof_planet_latest=read_data(set_path_to_WOF_metafiles+\"\\wof-planet-latest.csv\")\n",
    "wof_region_latest=read_data(set_path_to_WOF_metafiles+\"\\wof-region-latest.csv\")\n",
    "wof_empire_latest=read_data(set_path_to_WOF_metafiles+\"\\wof-empire-latest.csv\")"
   ]
  },
  {
   "cell_type": "code",
   "execution_count": 26,
   "metadata": {
    "collapsed": false
   },
   "outputs": [],
   "source": [
    "frames=[wof_continents_latest,wof_country_latest,wof_borough_latest,wof_campus_latest,wof_county_latest,wof_locality_latest,\n",
    "       wof_macrocounty_latest, wof_macrohood_latest,wof_macroregion_latest,wof_marinearea_latest,wof_microhood_latest,wof_neighbourhood_latest,\n",
    "        wof_ocean_latest,wof_planet_latest,wof_region_latest,wof_empire_latest]\n",
    "all_wof = pd.concat(frames)"
   ]
  },
  {
   "cell_type": "code",
   "execution_count": 27,
   "metadata": {
    "collapsed": false
   },
   "outputs": [],
   "source": [
    "wiki_original_names=read_data(\"..\\Analyzed_data\\\\final_titles_ids_all_status.csv\")"
   ]
  },
  {
   "cell_type": "code",
   "execution_count": 28,
   "metadata": {
    "collapsed": true
   },
   "outputs": [],
   "source": [
    "wiki_original_names_clean=wiki_original_names[wiki_original_names['spell_check']=='OK']"
   ]
  },
  {
   "cell_type": "code",
   "execution_count": 29,
   "metadata": {
    "collapsed": false
   },
   "outputs": [],
   "source": [
    "wiki_original_names_clean_places=wiki_original_names_clean[wiki_original_names_clean['placetype'].notnull()]"
   ]
  },
  {
   "cell_type": "code",
   "execution_count": 30,
   "metadata": {
    "collapsed": false
   },
   "outputs": [],
   "source": [
    "wiki_original_names_clean_places=wiki_original_names_clean_places[['wof:id','wk:page']]"
   ]
  },
  {
   "cell_type": "code",
   "execution_count": 31,
   "metadata": {
    "collapsed": true
   },
   "outputs": [],
   "source": [
    "all_wof_names = all_wof.join(wiki_original_names_clean_places.set_index(['wof:id']), on='id', how = 'left' )"
   ]
  },
  {
   "cell_type": "code",
   "execution_count": 32,
   "metadata": {
    "collapsed": false
   },
   "outputs": [],
   "source": [
    "all_wof_names_notnull=all_wof_names[all_wof_names['wk:page'].notnull()]"
   ]
  },
  {
   "cell_type": "code",
   "execution_count": 33,
   "metadata": {
    "collapsed": true
   },
   "outputs": [],
   "source": [
    "all_wof_names_grouped = all_wof_names_notnull.groupby('placetype')"
   ]
  },
  {
   "cell_type": "code",
   "execution_count": 37,
   "metadata": {
    "collapsed": false
   },
   "outputs": [],
   "source": [
    "wof_country_names = set(all_wof_names_grouped.get_group('country')['wk:page'])\n",
    "wof_borough_names = set(all_wof_names_grouped.get_group('borough')['wk:page'])\n",
    "wof_campus_names = set(all_wof_names_grouped.get_group('campus')['wk:page'])\n",
    "wof_county_names = set(all_wof_names_grouped.get_group('county')['wk:page'])\n",
    "wof_locality_names = set(all_wof_names_grouped.get_group('locality')['wk:page'])\n",
    "wof_macrocounty_names = set(all_wof_names_grouped.get_group('macrocounty')['wk:page'])\n",
    "wof_macrohood_names = set(all_wof_names_grouped.get_group('macrohood')['wk:page'])\n",
    "wof_macroregion_names = set(all_wof_names_grouped.get_group('macroregion')['wk:page'])\n",
    "wof_marinearea_names = set(all_wof_names_grouped.get_group('marinearea')['wk:page'])\n",
    "wof_microhood_names = set(all_wof_names_grouped.get_group('microhood')['wk:page'])\n",
    "wof_neighbourhood_names = set(all_wof_names_grouped.get_group('neighbourhood')['wk:page'])\n",
    "wof_region_names = set(all_wof_names_grouped.get_group('region')['wk:page'])"
   ]
  },
  {
   "cell_type": "code",
   "execution_count": 38,
   "metadata": {
    "collapsed": true
   },
   "outputs": [],
   "source": [
    "dictionary_countries_links={}\n",
    "dictionary_borough_links={}\n",
    "dictionary_campus_links={}\n",
    "dictionary_county_links={}\n",
    "dictionary_locality_links={}\n",
    "dictionary_macrocounty_links={}\n",
    "dictionary_macrohood_links={}\n",
    "dictionary_macroregion_links={}\n",
    "dictionary_marinearea_links={}\n",
    "dictionary_microhood_links={}\n",
    "dictionary_neighbourhood_links={}\n",
    "dictionary_region_links={}"
   ]
  },
  {
   "cell_type": "code",
   "execution_count": 39,
   "metadata": {
    "collapsed": false
   },
   "outputs": [],
   "source": [
    "for key, value in dictionary_names_links_clean.iteritems():\n",
    "    if key in wof_country_names:\n",
    "        dictionary_countries_links.update({key:value})\n",
    "    elif key in wof_borough_names:\n",
    "        dictionary_borough_links.update({key:value})\n",
    "    elif key in wof_campus_names:\n",
    "        dictionary_campus_links.update({key:value})\n",
    "    elif key in wof_county_names:\n",
    "        dictionary_county_links.update({key:value})\n",
    "    elif key in wof_locality_names:\n",
    "        dictionary_locality_links.update({key:value})\n",
    "    elif key in wof_macrocounty_names:\n",
    "        dictionary_macrocounty_links.update({key:value})\n",
    "    elif key in wof_macrohood_names:\n",
    "        dictionary_macrohood_links.update({key:value})\n",
    "    elif key in wof_macroregion_names:\n",
    "        dictionary_macroregion_links.update({key:value})\n",
    "    elif key in wof_marinearea_names:\n",
    "        dictionary_marinearea_links.update({key:value})\n",
    "    elif key in wof_microhood_names:\n",
    "        dictionary_microhood_links.update({key:value})\n",
    "    elif key in wof_neighbourhood_names:\n",
    "        dictionary_neighbourhood_links.update({key:value})\n",
    "    elif key in wof_region_names:\n",
    "        dictionary_region_links.update({key:value})\n",
    "    else:\n",
    "        pass"
   ]
  },
  {
   "cell_type": "code",
   "execution_count": 41,
   "metadata": {
    "collapsed": false
   },
   "outputs": [],
   "source": [
    "with open('..\\PageRank_OUTPUT\\Page_Rank_countries_dict.json', 'w') as outfile:\n",
    "    json.dump(dictionary_countries_links, outfile)"
   ]
  },
  {
   "cell_type": "code",
   "execution_count": 42,
   "metadata": {
    "collapsed": false
   },
   "outputs": [],
   "source": [
    "with open('..\\PageRank_OUTPUT\\\\Page_Rank_campus_dict.json', 'w') as outfile:\n",
    "    json.dump(dictionary_campus_links, outfile)\n",
    "with open('..\\PageRank_OUTPUT\\\\Page_Rank_county_dict.json', 'w') as outfile:\n",
    "    json.dump(dictionary_county_links, outfile)\n",
    "with open('..\\PageRank_OUTPUT\\\\Page_Rank_macrocounty_dict.json', 'w') as outfile:\n",
    "    json.dump(dictionary_macrocounty_links, outfile)\n",
    "with open('..\\PageRank_OUTPUT\\\\Page_Rank_macrohood_dict.json', 'w') as outfile:\n",
    "    json.dump(dictionary_macrohood_links, outfile)\n",
    "with open('..\\PageRank_OUTPUT\\\\Page_Rank_marinearea_dict.json', 'w') as outfile:\n",
    "    json.dump(dictionary_marinearea_links, outfile)\n",
    "with open('..\\PageRank_OUTPUT\\\\Page_Rank_microhood_dict.json', 'w') as outfile:\n",
    "    json.dump(dictionary_microhood_links, outfile)\n",
    "with open('..\\PageRank_OUTPUT\\\\Page_Rank_region_dict.json', 'w') as outfile:\n",
    "    json.dump(dictionary_region_links, outfile)"
   ]
  },
  {
   "cell_type": "code",
   "execution_count": 45,
   "metadata": {
    "collapsed": true
   },
   "outputs": [],
   "source": [
    "import itertools\n",
    "def get_range(dictionary, begin, end):\n",
    "      return dict(itertools.islice(dictionary.iteritems(), begin, end+1)) "
   ]
  },
  {
   "cell_type": "code",
   "execution_count": 51,
   "metadata": {
    "collapsed": false
   },
   "outputs": [],
   "source": [
    "n=1\n",
    "for i in range(0,len(dictionary_locality_links.keys()),1000):\n",
    "    dictionary_locality_links_1=get_range(dictionary_locality_links,i,i+1000)\n",
    "    with open('..\\Page_Rank_data\\\\Page_Rank_locality_dict_%s.json' %n, 'w') as outfile:\n",
    "        json.dump(dictionary_locality_links_1, outfile)\n",
    "    n+=1"
   ]
  },
  {
   "cell_type": "code",
   "execution_count": 56,
   "metadata": {
    "collapsed": false
   },
   "outputs": [],
   "source": [
    "n=1\n",
    "for i in range(0,len(dictionary_neighbourhood_links.keys()),1000):\n",
    "    dictionary_neigh_links_1=get_range(dictionary_neighbourhood_links,i,i+1000)\n",
    "    with open('..\\Page_Rank_data\\\\Page_Rank_neighbourhood_dict_%s.json' %n, 'w') as outfile:\n",
    "        json.dump(dictionary_neigh_links_1, outfile)\n",
    "    n+=1"
   ]
  },
  {
   "cell_type": "code",
   "execution_count": null,
   "metadata": {
    "collapsed": true
   },
   "outputs": [],
   "source": []
  }
 ],
 "metadata": {
  "kernelspec": {
   "display_name": "Python 2",
   "language": "python",
   "name": "python2"
  },
  "language_info": {
   "codemirror_mode": {
    "name": "ipython",
    "version": 2
   },
   "file_extension": ".py",
   "mimetype": "text/x-python",
   "name": "python",
   "nbconvert_exporter": "python",
   "pygments_lexer": "ipython2",
   "version": "2.7.11"
  }
 },
 "nbformat": 4,
 "nbformat_minor": 0
}
