{
 "cells": [
  {
   "cell_type": "code",
   "execution_count": 214,
   "metadata": {
    "collapsed": false
   },
   "outputs": [],
   "source": [
    "import networkx\n",
    "import PageRank\n",
    "import json\n",
    "import operator\n",
    "%matplotlib inline"
   ]
  },
  {
   "cell_type": "code",
   "execution_count": 215,
   "metadata": {
    "collapsed": true
   },
   "outputs": [],
   "source": [
    "import mpld3\n",
    "mpld3.enable_notebook()"
   ]
  },
  {
   "cell_type": "code",
   "execution_count": 3,
   "metadata": {
    "collapsed": false
   },
   "outputs": [],
   "source": [
    "import sys\n",
    "sys.path.append(\"..\")\n",
    "from all_functions import *"
   ]
  },
  {
   "cell_type": "code",
   "execution_count": 217,
   "metadata": {
    "collapsed": false
   },
   "outputs": [],
   "source": [
    "with open('..\\OUTPUTS_linkshere\\\\final_links_dict.json', 'r') as fp:\n",
    "    link_dictionary = json.load(fp)"
   ]
  },
  {
   "cell_type": "code",
   "execution_count": 1,
   "metadata": {
    "collapsed": true
   },
   "outputs": [],
   "source": [
    "set_path_to_WOF_metafiles = 'C:\\Users\\Olga\\Documents\\MAPZEN_data\\whosonfirst-data\\meta'"
   ]
  },
  {
   "cell_type": "code",
   "execution_count": 5,
   "metadata": {
    "collapsed": false
   },
   "outputs": [
    {
     "name": "stderr",
     "output_type": "stream",
     "text": [
      "C:\\Users\\Olga\\Anaconda2\\lib\\site-packages\\IPython\\core\\interactiveshell.py:3006: DtypeWarning: Columns (3,24) have mixed types. Specify dtype option on import or set low_memory=False.\n",
      "  if self.run_code(code, result):\n"
     ]
    }
   ],
   "source": [
    "wof_continents_latest=read_data(set_path_to_WOF_metafiles+\"\\wof-continent-latest.csv\")\n",
    "wof_country_latest=read_data(set_path_to_WOF_metafiles+\"\\wof-country-latest.csv\")\n",
    "wof_borough_latest=read_data(set_path_to_WOF_metafiles+\"\\wof-borough-latest.csv\")\n",
    "wof_campus_latest=read_data(set_path_to_WOF_metafiles+\"\\wof-campus-latest.csv\")\n",
    "wof_county_latest=read_data(set_path_to_WOF_metafiles+\"\\wof-county-latest.csv\")\n",
    "wof_locality_latest=read_data(set_path_to_WOF_metafiles+\"\\wof-locality-latest.csv\")\n",
    "wof_macrocounty_latest=read_data(set_path_to_WOF_metafiles+\"\\wof-macrocounty-latest.csv\")\n",
    "wof_macrohood_latest=read_data(set_path_to_WOF_metafiles+\"\\wof-macrohood-latest.csv\")\n",
    "wof_macroregion_latest=read_data(set_path_to_WOF_metafiles+\"\\wof-macroregion-latest.csv\")\n",
    "wof_marinearea_latest=read_data(set_path_to_WOF_metafiles+\"\\wof-marinearea-latest.csv\")\n",
    "wof_microhood_latest=read_data(set_path_to_WOF_metafiles+\"\\wof-microhood-latest.csv\")\n",
    "wof_neighbourhood_latest=read_data(set_path_to_WOF_metafiles+\"\\wof-neighbourhood-latest.csv\")\n",
    "wof_ocean_latest=read_data(set_path_to_WOF_metafiles+\"\\wof-ocean-latest.csv\")\n",
    "wof_planet_latest=read_data(set_path_to_WOF_metafiles+\"\\wof-planet-latest.csv\")\n",
    "wof_region_latest=read_data(set_path_to_WOF_metafiles+\"\\wof-region-latest.csv\")"
   ]
  },
  {
   "cell_type": "code",
   "execution_count": 219,
   "metadata": {
    "collapsed": true
   },
   "outputs": [],
   "source": [
    "frames=[wof_continents_latest,wof_country_latest,wof_borough_latest,wof_campus_latest,wof_county_latest,wof_locality_latest,\n",
    "       wof_macrocounty_latest, wof_macrohood_latest,wof_macroregion_latest,wof_marinearea_latest,wof_microhood_latest,wof_neighbourhood_latest,\n",
    "        wof_ocean_latest,wof_planet_latest,wof_region_latest,wof_empire_latest]\n",
    "all_wof = pd.concat(frames)"
   ]
  },
  {
   "cell_type": "code",
   "execution_count": 221,
   "metadata": {
    "collapsed": false
   },
   "outputs": [],
   "source": [
    "wiki_original_names=read_data(\"..\\OUTPUTS_titles_word_count\\\\final_titles_ids_all_status.csv\")"
   ]
  },
  {
   "cell_type": "code",
   "execution_count": 222,
   "metadata": {
    "collapsed": true
   },
   "outputs": [],
   "source": [
    "wiki_original_names_clean=wiki_original_names[wiki_original_names['spell_check']=='OK']"
   ]
  },
  {
   "cell_type": "code",
   "execution_count": 223,
   "metadata": {
    "collapsed": false
   },
   "outputs": [],
   "source": [
    "wiki_original_names_clean_places=wiki_original_names_clean[wiki_original_names_clean['placetype'].notnull()]"
   ]
  },
  {
   "cell_type": "code",
   "execution_count": 224,
   "metadata": {
    "collapsed": false
   },
   "outputs": [],
   "source": [
    "wiki_original_names_clean_places=wiki_original_names_clean_places[['wof:id','wk:page']]"
   ]
  },
  {
   "cell_type": "code",
   "execution_count": 225,
   "metadata": {
    "collapsed": true
   },
   "outputs": [],
   "source": [
    "all_wof_names = all_wof.join(wiki_original_names_clean_places.set_index(['wof:id']), on='id', how = 'left' )"
   ]
  },
  {
   "cell_type": "code",
   "execution_count": 226,
   "metadata": {
    "collapsed": false
   },
   "outputs": [],
   "source": [
    "all_wof_names_notnull=all_wof_names[all_wof_names['wk:page'].notnull()]"
   ]
  },
  {
   "cell_type": "code",
   "execution_count": 227,
   "metadata": {
    "collapsed": true
   },
   "outputs": [],
   "source": [
    "all_wof_names_grouped = all_wof_names_notnull.groupby('placetype')"
   ]
  },
  {
   "cell_type": "code",
   "execution_count": 228,
   "metadata": {
    "collapsed": false
   },
   "outputs": [],
   "source": [
    "wof_country_names = set(all_wof_names_grouped.get_group('country')['wk:page'])\n",
    "wof_borough_names = set(all_wof_names_grouped.get_group('borough')['wk:page'])\n",
    "wof_campus_names = set(all_wof_names_grouped.get_group('campus')['wk:page'])\n",
    "wof_county_names = set(all_wof_names_grouped.get_group('county')['wk:page'])\n",
    "wof_locality_names = set(all_wof_names_grouped.get_group('locality')['wk:page'])\n",
    "wof_macrocounty_names = set(all_wof_names_grouped.get_group('macrocounty')['wk:page'])\n",
    "wof_macrohood_names = set(all_wof_names_grouped.get_group('macrohood')['wk:page'])\n",
    "wof_macroregion_names = set(all_wof_names_grouped.get_group('macroregion')['wk:page'])\n",
    "wof_marinearea_names = set(all_wof_names_grouped.get_group('marinearea')['wk:page'])\n",
    "wof_microhood_names = set(all_wof_names_grouped.get_group('microhood')['wk:page'])\n",
    "wof_neighbourhood_names = set(all_wof_names_grouped.get_group('neighbourhood')['wk:page'])\n",
    "wof_region_names = set(all_wof_names_grouped.get_group('region')['wk:page'])"
   ]
  },
  {
   "cell_type": "code",
   "execution_count": 229,
   "metadata": {
    "collapsed": true
   },
   "outputs": [],
   "source": [
    "dictionary_countries_links={}\n",
    "dictionary_borough_links={}\n",
    "dictionary_campus_links={}\n",
    "dictionary_county_links={}\n",
    "dictionary_locality_links={}\n",
    "dictionary_macrocounty_links={}\n",
    "dictionary_macrohood_links={}\n",
    "dictionary_macroregion_links={}\n",
    "dictionary_marinearea_links={}\n",
    "dictionary_microhood_links={}\n",
    "dictionary_neighbourhood_links={}\n",
    "dictionary_region_links={}"
   ]
  },
  {
   "cell_type": "code",
   "execution_count": 230,
   "metadata": {
    "collapsed": false
   },
   "outputs": [],
   "source": [
    "for key, value in link_dictionary.iteritems():\n",
    "    if key in wof_country_names:\n",
    "        dictionary_countries_links.update({key:value})\n",
    "    elif key in wof_borough_names:\n",
    "        dictionary_borough_links.update({key:value})\n",
    "    elif key in wof_campus_names:\n",
    "        dictionary_campus_links.update({key:value})\n",
    "    elif key in wof_county_names:\n",
    "        dictionary_county_links.update({key:value})\n",
    "    elif key in wof_locality_names:\n",
    "        dictionary_locality_links.update({key:value})\n",
    "    elif key in wof_macrocounty_names:\n",
    "        dictionary_macrocounty_links.update({key:value})\n",
    "    elif key in wof_macrohood_names:\n",
    "        dictionary_macrohood_links.update({key:value})\n",
    "    elif key in wof_macroregion_names:\n",
    "        dictionary_macroregion_links.update({key:value})\n",
    "    elif key in wof_marinearea_names:\n",
    "        dictionary_marinearea_links.update({key:value})\n",
    "    elif key in wof_microhood_names:\n",
    "        dictionary_microhood_links.update({key:value})\n",
    "    elif key in wof_neighbourhood_names:\n",
    "        dictionary_neighbourhood_links.update({key:value})\n",
    "    elif key in wof_region_names:\n",
    "        dictionary_region_links.update({key:value})\n",
    "    else:\n",
    "        pass"
   ]
  },
  {
   "cell_type": "code",
   "execution_count": 204,
   "metadata": {
    "collapsed": true
   },
   "outputs": [],
   "source": [
    "with open('..\\PageRank_data\\Page_Rank_countries_dict.json', 'w') as outfile:\n",
    "    json.dump(dictionary_countries_links, outfile)"
   ]
  },
  {
   "cell_type": "code",
   "execution_count": 213,
   "metadata": {
    "collapsed": false
   },
   "outputs": [],
   "source": [
    "with open('..\\PageRank_data\\\\Page_Rank_campus_dict.json', 'w') as outfile:\n",
    "    json.dump(dictionary_campus_links, outfile)\n",
    "with open('..\\PageRank_data\\\\Page_Rank_county_dict.json', 'w') as outfile:\n",
    "    json.dump(dictionary_county_links, outfile)\n",
    "with open('..\\PageRank_data\\\\Page_Rank_macrocounty_dict.json', 'w') as outfile:\n",
    "    json.dump(dictionary_macrocounty_links, outfile)\n",
    "with open('..\\PageRank_data\\\\Page_Rank_macrohood_dict.json', 'w') as outfile:\n",
    "    json.dump(dictionary_macrohood_links, outfile)\n",
    "with open('..\\PageRank_data\\\\Page_Rank_marinearea_dict.json', 'w') as outfile:\n",
    "    json.dump(dictionary_marinearea_links, outfile)\n",
    "with open('..\\PageRank_data\\\\Page_Rank_microhood_dict.json', 'w') as outfile:\n",
    "    json.dump(dictionary_microhood_links, outfile)\n",
    "with open('..\\PageRank_data\\\\Page_Rank_region_dict.json', 'w') as outfile:\n",
    "    json.dump(dictionary_region_links, outfile)"
   ]
  },
  {
   "cell_type": "code",
   "execution_count": 231,
   "metadata": {
    "collapsed": true
   },
   "outputs": [],
   "source": [
    "import itertools\n",
    "def get_range(dictionary, begin, end):\n",
    "      return dict(itertools.islice(dictionary.iteritems(), begin, end+1)) "
   ]
  },
  {
   "cell_type": "code",
   "execution_count": 232,
   "metadata": {
    "collapsed": false
   },
   "outputs": [
    {
     "data": {
      "text/plain": [
       "77029"
      ]
     },
     "execution_count": 232,
     "metadata": {},
     "output_type": "execute_result"
    }
   ],
   "source": [
    "len(dictionary_locality_links.keys())"
   ]
  },
  {
   "cell_type": "code",
   "execution_count": 233,
   "metadata": {
    "collapsed": true
   },
   "outputs": [],
   "source": [
    "dictionary_locality_links_1=get_range(dictionary_locality_links,0,5000)\n",
    "dictionary_locality_links_2=get_range(dictionary_locality_links,5000,10000)\n",
    "dictionary_locality_links_3=get_range(dictionary_locality_links,10000,15000)\n",
    "dictionary_locality_links_4=get_range(dictionary_locality_links,15000,20000)\n",
    "dictionary_locality_links_5=get_range(dictionary_locality_links,20000,25000)\n",
    "dictionary_locality_links_6=get_range(dictionary_locality_links,25000,30000)\n",
    "dictionary_locality_links_7=get_range(dictionary_locality_links,30000,35000)\n",
    "dictionary_locality_links_8=get_range(dictionary_locality_links,35000,40000)\n",
    "dictionary_locality_links_9=get_range(dictionary_locality_links,40000,45000)\n",
    "dictionary_locality_links_10=get_range(dictionary_locality_links,45000,50000)\n",
    "dictionary_locality_links_11=get_range(dictionary_locality_links,50000,55000)\n",
    "dictionary_locality_links_12=get_range(dictionary_locality_links,55000,60000)\n",
    "dictionary_locality_links_13=get_range(dictionary_locality_links,60000,65000)\n",
    "dictionary_locality_links_14=get_range(dictionary_locality_links,65000,70000)\n",
    "dictionary_locality_links_15=get_range(dictionary_locality_links,70000,75000)\n",
    "dictionary_locality_links_16=get_range(dictionary_locality_links,75000,80000)"
   ]
  },
  {
   "cell_type": "code",
   "execution_count": 234,
   "metadata": {
    "collapsed": true
   },
   "outputs": [],
   "source": [
    "with open('..\\PageRank_data\\\\Page_Rank_locality_dict_1.json', 'w') as outfile:\n",
    "    json.dump(dictionary_locality_links_1, outfile)\n",
    "with open('..\\PageRank_data\\\\Page_Rank_locality_dict_2.json', 'w') as outfile:\n",
    "    json.dump(dictionary_locality_links_2, outfile)\n",
    "with open('..\\PageRank_data\\\\Page_Rank_locality_dict_3.json', 'w') as outfile:\n",
    "    json.dump(dictionary_locality_links_3, outfile)\n",
    "with open('..\\PageRank_data\\\\Page_Rank_locality_dict_4.json', 'w') as outfile:\n",
    "    json.dump(dictionary_locality_links_4, outfile)\n",
    "with open('..\\PageRank_data\\\\Page_Rank_locality_dict_5.json', 'w') as outfile:\n",
    "    json.dump(dictionary_locality_links_5, outfile)\n",
    "with open('..\\PageRank_data\\\\Page_Rank_locality_dict_6.json', 'w') as outfile:\n",
    "    json.dump(dictionary_locality_links_6, outfile)\n",
    "with open('..\\PageRank_data\\\\Page_Rank_locality_dict_7.json', 'w') as outfile:\n",
    "    json.dump(dictionary_locality_links_7, outfile)\n",
    "with open('..\\PageRank_data\\\\Page_Rank_locality_dict_8.json', 'w') as outfile:\n",
    "    json.dump(dictionary_locality_links_8, outfile)\n",
    "with open('..\\PageRank_data\\\\Page_Rank_locality_dict_9.json', 'w') as outfile:\n",
    "    json.dump(dictionary_locality_links_9, outfile)\n",
    "with open('..\\PageRank_data\\\\Page_Rank_locality_dict_10.json', 'w') as outfile:\n",
    "    json.dump(dictionary_locality_links_10, outfile)\n",
    "with open('..\\PageRank_data\\\\Page_Rank_locality_dict_11.json', 'w') as outfile:\n",
    "    json.dump(dictionary_locality_links_11, outfile)\n",
    "with open('..\\PageRank_data\\\\Page_Rank_locality_dict_12.json', 'w') as outfile:\n",
    "    json.dump(dictionary_locality_links_12, outfile)\n",
    "with open('..\\PageRank_data\\\\Page_Rank_locality_dict_13.json', 'w') as outfile:\n",
    "    json.dump(dictionary_locality_links_13, outfile)\n",
    "with open('..\\PageRank_data\\\\Page_Rank_locality_dict_14.json', 'w') as outfile:\n",
    "    json.dump(dictionary_locality_links_14, outfile)\n",
    "with open('..\\PageRank_data\\\\Page_Rank_locality_dict_15.json', 'w') as outfile:\n",
    "    json.dump(dictionary_locality_links_15, outfile)\n",
    "with open('..\\PageRank_data\\\\Page_Rank_locality_dict_16.json', 'w') as outfile:\n",
    "    json.dump(dictionary_locality_links_16, outfile)"
   ]
  },
  {
   "cell_type": "code",
   "execution_count": 239,
   "metadata": {
    "collapsed": true
   },
   "outputs": [],
   "source": [
    "dictionary_neighbourhood_links_1=get_range(dictionary_neighbourhood_links,0,1000)\n",
    "dictionary_neighbourhood_links_2=get_range(dictionary_neighbourhood_links,1000,2000)\n",
    "dictionary_neighbourhood_links_3=get_range(dictionary_neighbourhood_links,2000,3000)\n",
    "dictionary_neighbourhood_links_4=get_range(dictionary_neighbourhood_links,3000,4000)\n",
    "dictionary_neighbourhood_links_5=get_range(dictionary_neighbourhood_links,4000,5000)\n",
    "dictionary_neighbourhood_links_6=get_range(dictionary_neighbourhood_links,5000,6000)\n",
    "dictionary_neighbourhood_links_7=get_range(dictionary_neighbourhood_links,6000,7000)\n",
    "dictionary_neighbourhood_links_8=get_range(dictionary_neighbourhood_links,7000,8000)\n",
    "dictionary_neighbourhood_links_9=get_range(dictionary_neighbourhood_links,7000,8610)"
   ]
  },
  {
   "cell_type": "code",
   "execution_count": 237,
   "metadata": {
    "collapsed": true
   },
   "outputs": [],
   "source": [
    "with open('..\\PageRank_data\\large\\\\Page_Rank_neighbourhood_dict_1.json', 'w') as outfile:\n",
    "    json.dump(dictionary_neighbourhood_links_1, outfile)\n",
    "with open('..\\PageRank_data\\large\\\\Page_Rank_neighbourhood_dict_2.json', 'w') as outfile:\n",
    "    json.dump(dictionary_neighbourhood_links_2, outfile)\n",
    "with open('..\\PageRank_data\\large\\\\Page_Rank_neighbourhood_dict_3.json', 'w') as outfile:\n",
    "    json.dump(dictionary_neighbourhood_links_3, outfile)\n",
    "with open('..\\PageRank_data\\large\\\\Page_Rank_neighbourhood_dict_4.json', 'w') as outfile:\n",
    "    json.dump(dictionary_neighbourhood_links_4, outfile)\n",
    "with open('..\\PageRank_data\\large\\\\Page_Rank_neighbourhood_dict_5.json', 'w') as outfile:\n",
    "    json.dump(dictionary_neighbourhood_links_5, outfile)\n",
    "with open('..\\PageRank_data\\large\\\\Page_Rank_neighbourhood_dict_6.json', 'w') as outfile:\n",
    "    json.dump(dictionary_neighbourhood_links_6, outfile)\n",
    "with open('..\\PageRank_data\\large\\\\Page_Rank_neighbourhood_dict_7.json', 'w') as outfile:\n",
    "    json.dump(dictionary_neighbourhood_links_7, outfile)\n",
    "with open('..\\PageRank_data\\large\\\\Page_Rank_neighbourhood_dict_8.json', 'w') as outfile:\n",
    "    json.dump(dictionary_neighbourhood_links_8, outfile)\n",
    "with open('..\\PageRank_data\\large\\\\Page_Rank_neighbourhood_dict_9.json', 'w') as outfile:\n",
    "    json.dump(dictionary_neighbourhood_links_9, outfile)"
   ]
  },
  {
   "cell_type": "code",
   "execution_count": null,
   "metadata": {
    "collapsed": true
   },
   "outputs": [],
   "source": []
  }
 ],
 "metadata": {
  "kernelspec": {
   "display_name": "Python 2",
   "language": "python",
   "name": "python2"
  },
  "language_info": {
   "codemirror_mode": {
    "name": "ipython",
    "version": 2
   },
   "file_extension": ".py",
   "mimetype": "text/x-python",
   "name": "python",
   "nbconvert_exporter": "python",
   "pygments_lexer": "ipython2",
   "version": "2.7.11"
  }
 },
 "nbformat": 4,
 "nbformat_minor": 0
}
