{
 "cells": [
  {
   "cell_type": "code",
   "execution_count": 1,
   "metadata": {
    "collapsed": true
   },
   "outputs": [],
   "source": [
    "import csv\n",
    "import pandas as pd\n",
    "import requests\n",
    "import json\n",
    "import numpy as np\n",
    "import sys\n",
    "import os"
   ]
  },
  {
   "cell_type": "code",
   "execution_count": 16,
   "metadata": {
    "collapsed": false
   },
   "outputs": [],
   "source": [
    "sys.path.append(\"..\")\n",
    "from all_functions import *"
   ]
  },
  {
   "cell_type": "markdown",
   "metadata": {},
   "source": [
    "## Combine jsons from AWS"
   ]
  },
  {
   "cell_type": "code",
   "execution_count": 19,
   "metadata": {
    "collapsed": false
   },
   "outputs": [],
   "source": [
    "path_to_json = '../OUTPUTS_languages'\n",
    "json_files = [pos_json for pos_json in os.listdir(path_to_json) if pos_json.endswith('.json')]\n"
   ]
  },
  {
   "cell_type": "code",
   "execution_count": 20,
   "metadata": {
    "collapsed": true
   },
   "outputs": [],
   "source": [
    "all_languages_dict={}\n",
    "for js in json_files:\n",
    "    with open(os.path.join(path_to_json, js)) as json_file:\n",
    "        new_json=json.load(json_file)\n",
    "    all_languages_dict.update(new_json)"
   ]
  },
  {
   "cell_type": "markdown",
   "metadata": {},
   "source": [
    "## Discard names that were not cleaned up - see titles"
   ]
  },
  {
   "cell_type": "code",
   "execution_count": 25,
   "metadata": {
    "collapsed": false
   },
   "outputs": [],
   "source": [
    "import pickle\n",
    "with open('../Analyzed_data/names_do_not_want', 'rb') as f:\n",
    "    names_do_not_want = pickle.load(f)"
   ]
  },
  {
   "cell_type": "code",
   "execution_count": 26,
   "metadata": {
    "collapsed": true
   },
   "outputs": [],
   "source": [
    "flattened = []\n",
    "for x in names_do_not_want:\n",
    "    if type(x) is list:\n",
    "        flattened.extend(x)\n",
    "    else:\n",
    "        flattened.append(x)"
   ]
  },
  {
   "cell_type": "code",
   "execution_count": 27,
   "metadata": {
    "collapsed": false
   },
   "outputs": [],
   "source": [
    "names_set=set(flattened)"
   ]
  },
  {
   "cell_type": "code",
   "execution_count": 28,
   "metadata": {
    "collapsed": false
   },
   "outputs": [],
   "source": [
    "dictionary_names_languages={}\n",
    "for key, value in all_languages_dict.iteritems():\n",
    "    if key in names_set:\n",
    "        pass\n",
    "    else:\n",
    "        dictionary_names_languages.update({key:value})"
   ]
  },
  {
   "cell_type": "code",
   "execution_count": 29,
   "metadata": {
    "collapsed": true
   },
   "outputs": [],
   "source": [
    "keys=dictionary_names_languages.keys()"
   ]
  },
  {
   "cell_type": "code",
   "execution_count": 30,
   "metadata": {
    "collapsed": true
   },
   "outputs": [],
   "source": [
    "with open('..\\OUTPUTS_languages\\\\languages_dict_clean.json', 'w') as outfile:\n",
    "    json.dump(dictionary_names_languages, outfile)"
   ]
  },
  {
   "cell_type": "code",
   "execution_count": 14,
   "metadata": {
    "collapsed": false
   },
   "outputs": [],
   "source": [
    "wof_ids = read_data(\"..\\Analyzed_data\\OUTPUTS_titles_word_count\\\\final_titles_ids_all_status.csv\")"
   ]
  },
  {
   "cell_type": "code",
   "execution_count": null,
   "metadata": {
    "collapsed": true
   },
   "outputs": [],
   "source": [
    "mapping_dic_wof_name={}\n",
    "for index, row in wof_ids.iterrows():\n",
    "    key = row['wk:page']\n",
    "    value = str(int(row['wof:id']))\n",
    "    mapping_dic_wof_name.update({key:value})"
   ]
  },
  {
   "cell_type": "markdown",
   "metadata": {},
   "source": [
    "## Create dictionary of languages with wof:id"
   ]
  },
  {
   "cell_type": "code",
   "execution_count": 151,
   "metadata": {
    "collapsed": false
   },
   "outputs": [],
   "source": [
    "dictionary_wof_languages={}\n",
    "for key, value in dictionary_names_languages.iteritems():\n",
    "    try:\n",
    "        a = key.encode('utf8')\n",
    "        new_key=mapping_dic_wof_name[a]\n",
    "        dictionary_wof_languages.update({new_key:value})\n",
    "    except KeyError:\n",
    "        pass"
   ]
  },
  {
   "cell_type": "code",
   "execution_count": 145,
   "metadata": {
    "collapsed": false
   },
   "outputs": [],
   "source": [
    "with open('..\\Analyzed_data\\\\languages_dict_clean_wof.json', 'w') as outfile:\n",
    "    json.dump(dictionary_wof_languages, outfile)"
   ]
  },
  {
   "cell_type": "markdown",
   "metadata": {},
   "source": [
    "### Clean languages from placetypes "
   ]
  },
  {
   "cell_type": "code",
   "execution_count": 69,
   "metadata": {
    "collapsed": false
   },
   "outputs": [],
   "source": [
    "dic_wof_clean_all = {}\n",
    "for key , values in dictionary_wof_languages.iteritems():\n",
    "    dic_wof_values_clean = {}\n",
    "    for lang, value in values.iteritems():\n",
    "        if value.find(\" (\") != -1:\n",
    "            lhs, rhs = value.split(\" (\",1)\n",
    "            new_value = lhs\n",
    "        elif value.find(\",\") != -1:\n",
    "            lhs, rhs = value.split(\",\",1)\n",
    "            new_value = lhs\n",
    "        else:\n",
    "            new_value = value\n",
    "        dic_wof_values_clean.update({lang:new_value})\n",
    "    dic_wof_clean_all.update({key:dic_wof_values_clean})"
   ]
  },
  {
   "cell_type": "code",
   "execution_count": 70,
   "metadata": {
    "collapsed": false
   },
   "outputs": [],
   "source": [
    "with open('..\\Analyzed_data\\\\languages_wof_dict_clean_values.json', 'w') as outfile:\n",
    "    json.dump(dic_wof_clean_all, outfile)"
   ]
  },
  {
   "cell_type": "markdown",
   "metadata": {},
   "source": [
    "### Print  example"
   ]
  },
  {
   "cell_type": "code",
   "execution_count": 9,
   "metadata": {
    "collapsed": false
   },
   "outputs": [
    {
     "name": "stdout",
     "output_type": "stream",
     "text": [
      "\u001b[1m   en :  Yosemite Valley \u001b[0m\n",
      "   nl :  Yosemite Valley\n",
      "   pt :  Yosemite Valley\n",
      "   hr :  Yosemite Valley\n",
      "   sr :  Јосемити Вали\n",
      "   ca :  Yosemite Valley\n",
      "   ur :  یوسمتھے ویلی، کیلی فورنیا\n",
      "   sh :  Yosemite Valley\n",
      "   new :  योसेमाइट भ्याली\n",
      "   vo :  Yosemite Valley\n",
      "   es :  Yosemite Valley\n"
     ]
    }
   ],
   "source": [
    "print (\"\\033[1m\"+ '   en :  Yosemite Valley '+\"\\033[0m\")\n",
    "\n",
    "for key, value in dic_wof_clean_all['85924991'].iteritems():\n",
    "    print \"   \"+key,\": \", value"
   ]
  },
  {
   "cell_type": "code",
   "execution_count": null,
   "metadata": {
    "collapsed": true
   },
   "outputs": [],
   "source": []
  }
 ],
 "metadata": {
  "kernelspec": {
   "display_name": "Python 2",
   "language": "python",
   "name": "python2"
  },
  "language_info": {
   "codemirror_mode": {
    "name": "ipython",
    "version": 2
   },
   "file_extension": ".py",
   "mimetype": "text/x-python",
   "name": "python",
   "nbconvert_exporter": "python",
   "pygments_lexer": "ipython2",
   "version": "2.7.11"
  }
 },
 "nbformat": 4,
 "nbformat_minor": 0
}
