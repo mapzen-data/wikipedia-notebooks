{
 "cells": [
  {
   "cell_type": "code",
   "execution_count": 1,
   "metadata": {
    "collapsed": true
   },
   "outputs": [],
   "source": [
    "from __future__ import division\n",
    "import csv\n",
    "import pandas as pd\n",
    "import requests\n",
    "import json\n",
    "import glob\n",
    "import numpy as np\n",
    "import pickle\n",
    "import editdistance"
   ]
  },
  {
   "cell_type": "code",
   "execution_count": 2,
   "metadata": {
    "collapsed": true
   },
   "outputs": [],
   "source": [
    "import sys\n",
    "sys.path.append(\"..\")\n",
    "from all_functions import *"
   ]
  },
  {
   "cell_type": "markdown",
   "metadata": {},
   "source": [
    "## combine csvs for titles and WD ids "
   ]
  },
  {
   "cell_type": "code",
   "execution_count": 54,
   "metadata": {
    "collapsed": false
   },
   "outputs": [],
   "source": [
    "path =r'..\\OUTPUTS_titles_word_count' # use your path\n",
    "allFiles = glob.glob(path + \"\\*.csv\")\n",
    "list_ = []\n",
    "final_all_titles = []\n",
    "for file_ in allFiles:\n",
    "    df = pd.read_csv(file_,index_col=None, header=0)\n",
    "    final_all_titles.append(df)\n",
    "final_all_titles_df, list_=combine_dataframes_from_batch(final_all_titles,list_)"
   ]
  },
  {
   "cell_type": "code",
   "execution_count": 55,
   "metadata": {
    "collapsed": false
   },
   "outputs": [],
   "source": [
    "path =r'..\\OUTPUT_wd_id' # use your path\n",
    "allFiles = glob.glob(path + \"\\*.csv\")\n",
    "list_ = []\n",
    "final_all_concord = []\n",
    "for file_ in allFiles:\n",
    "    df = pd.read_csv(file_,index_col=None, header=0)\n",
    "    final_all_concord.append(df)\n",
    "final_all_concord_df, list_=combine_dataframes_from_batch(final_all_concord,list_)"
   ]
  },
  {
   "cell_type": "code",
   "execution_count": 56,
   "metadata": {
    "collapsed": false
   },
   "outputs": [],
   "source": [
    "final_all_concord_df['wk:page']=final_all_concord_df['wk_name']\n",
    "final_all_concord_df['wd:id']=final_all_concord_df['wiki_id']\n",
    "final_all_concord_df=final_all_concord_df[['wk:page','wd:id','wk_page_id']]"
   ]
  },
  {
   "cell_type": "code",
   "execution_count": 57,
   "metadata": {
    "collapsed": false
   },
   "outputs": [],
   "source": [
    "final_all_concord_df=final_all_concord_df[final_all_concord_df['wk:page'].notnull()]\n",
    "final_all_concord_df=final_all_concord_df[final_all_concord_df['wd:id'].notnull()]"
   ]
  },
  {
   "cell_type": "code",
   "execution_count": 58,
   "metadata": {
    "collapsed": false
   },
   "outputs": [],
   "source": [
    "all_wof_data=read_data(\"..\\Analyzed_data\\\\all_meta_data_wof.csv\")\n",
    "all_wof_data=all_wof_data.drop(['Unnamed: 0'],1)\n",
    "final_all_titles_df=final_all_titles_df.drop(['Unnamed: 0','Unnamed: 0.1'],1)"
   ]
  },
  {
   "cell_type": "code",
   "execution_count": 59,
   "metadata": {
    "collapsed": false
   },
   "outputs": [],
   "source": [
    "final_all_titles_df['wof:id']=np.where(final_all_titles_df['wof:id'].isnull(),final_all_titles_df['id'],final_all_titles_df['wof:id'])"
   ]
  },
  {
   "cell_type": "code",
   "execution_count": 60,
   "metadata": {
    "collapsed": true
   },
   "outputs": [],
   "source": [
    "final_all_titles_wof_join=final_all_titles_df.join(all_wof_data.set_index(['id']), on= 'wof:id', how='left', rsuffix='_right')"
   ]
  },
  {
   "cell_type": "code",
   "execution_count": 61,
   "metadata": {
    "collapsed": false
   },
   "outputs": [],
   "source": [
    "final_all_titles_wof_join['name']=np.where(final_all_titles_wof_join['name'].isnull(),final_all_titles_wof_join['name_right'],final_all_titles_wof_join['name'])"
   ]
  },
  {
   "cell_type": "code",
   "execution_count": 62,
   "metadata": {
    "collapsed": false
   },
   "outputs": [],
   "source": [
    "final_all_concord_df=final_all_concord_df[['wd:id','wk:page']]\n",
    "final_all_titles_wof_join=final_all_titles_wof_join[['wof:id','name','wk:page','wordcount','wk_page_id']]"
   ]
  },
  {
   "cell_type": "code",
   "execution_count": 63,
   "metadata": {
    "collapsed": false
   },
   "outputs": [],
   "source": [
    "final_all_concord_df=find_unique(final_all_concord_df,'wd:id')"
   ]
  },
  {
   "cell_type": "code",
   "execution_count": 64,
   "metadata": {
    "collapsed": false
   },
   "outputs": [],
   "source": [
    "final_all_titles_ids_join=final_all_titles_wof_join.join(final_all_concord_df.set_index(['wk:page']), on= 'wk:page', how='left')"
   ]
  },
  {
   "cell_type": "code",
   "execution_count": 65,
   "metadata": {
    "collapsed": false
   },
   "outputs": [],
   "source": [
    "final_all_titles_ids_join_not_null=final_all_titles_ids_join[(final_all_titles_ids_join['wk:page'].notnull())]"
   ]
  },
  {
   "cell_type": "code",
   "execution_count": 66,
   "metadata": {
    "collapsed": false
   },
   "outputs": [],
   "source": [
    "final_all_titles_ids_join_not_null=find_unique(final_all_titles_ids_join_not_null, 'wof:id')\n",
    "final_all_titles_ids_join_not_null['name']=np.where(final_all_titles_ids_join_not_null['name'].isnull(),final_all_titles_ids_join_not_null['wk:page'],final_all_titles_ids_join_not_null['name'])"
   ]
  },
  {
   "cell_type": "code",
   "execution_count": 67,
   "metadata": {
    "collapsed": false
   },
   "outputs": [],
   "source": [
    "final_all_titles_ids_join_not_null['spell_check']='maybe'"
   ]
  },
  {
   "cell_type": "code",
   "execution_count": 68,
   "metadata": {
    "collapsed": false
   },
   "outputs": [
    {
     "data": {
      "text/html": [
       "<div>\n",
       "<table border=\"1\" class=\"dataframe\">\n",
       "  <thead>\n",
       "    <tr style=\"text-align: right;\">\n",
       "      <th></th>\n",
       "      <th>wof:id</th>\n",
       "      <th>name</th>\n",
       "      <th>wk:page</th>\n",
       "      <th>wordcount</th>\n",
       "      <th>wk_page_id</th>\n",
       "      <th>wd:id</th>\n",
       "      <th>spell_check</th>\n",
       "      <th>wof:name</th>\n",
       "    </tr>\n",
       "  </thead>\n",
       "  <tbody>\n",
       "    <tr>\n",
       "      <th>0</th>\n",
       "      <td>102191569</td>\n",
       "      <td>Asia</td>\n",
       "      <td>Asia</td>\n",
       "      <td>7791</td>\n",
       "      <td>NaN</td>\n",
       "      <td>Q48</td>\n",
       "      <td>maybe</td>\n",
       "      <td>Asia</td>\n",
       "    </tr>\n",
       "    <tr>\n",
       "      <th>1</th>\n",
       "      <td>102191573</td>\n",
       "      <td>Africa</td>\n",
       "      <td>Africa</td>\n",
       "      <td>9840</td>\n",
       "      <td>NaN</td>\n",
       "      <td>Q15</td>\n",
       "      <td>maybe</td>\n",
       "      <td>Africa</td>\n",
       "    </tr>\n",
       "    <tr>\n",
       "      <th>2</th>\n",
       "      <td>102191575</td>\n",
       "      <td>North America</td>\n",
       "      <td>North America</td>\n",
       "      <td>9285</td>\n",
       "      <td>NaN</td>\n",
       "      <td>Q49</td>\n",
       "      <td>maybe</td>\n",
       "      <td>North America</td>\n",
       "    </tr>\n",
       "    <tr>\n",
       "      <th>3</th>\n",
       "      <td>102191577</td>\n",
       "      <td>South America</td>\n",
       "      <td>South America</td>\n",
       "      <td>5946</td>\n",
       "      <td>NaN</td>\n",
       "      <td>Q18</td>\n",
       "      <td>maybe</td>\n",
       "      <td>South America</td>\n",
       "    </tr>\n",
       "    <tr>\n",
       "      <th>4</th>\n",
       "      <td>102191579</td>\n",
       "      <td>Antarctica</td>\n",
       "      <td>Antarctica</td>\n",
       "      <td>11937</td>\n",
       "      <td>NaN</td>\n",
       "      <td>Q51</td>\n",
       "      <td>maybe</td>\n",
       "      <td>Antarctica</td>\n",
       "    </tr>\n",
       "  </tbody>\n",
       "</table>\n",
       "</div>"
      ],
      "text/plain": [
       "      wof:id           name        wk:page  wordcount  wk_page_id wd:id  \\\n",
       "0  102191569           Asia           Asia       7791         NaN   Q48   \n",
       "1  102191573         Africa         Africa       9840         NaN   Q15   \n",
       "2  102191575  North America  North America       9285         NaN   Q49   \n",
       "3  102191577  South America  South America       5946         NaN   Q18   \n",
       "4  102191579     Antarctica     Antarctica      11937         NaN   Q51   \n",
       "\n",
       "  spell_check       wof:name  \n",
       "0       maybe           Asia  \n",
       "1       maybe         Africa  \n",
       "2       maybe  North America  \n",
       "3       maybe  South America  \n",
       "4       maybe     Antarctica  "
      ]
     },
     "execution_count": 68,
     "metadata": {},
     "output_type": "execute_result"
    }
   ],
   "source": [
    "final_all_titles_ids_join_not_null['wof:name']=final_all_titles_ids_join_not_null['name']\n",
    "final_all_titles_ids_join_not_null.head()"
   ]
  },
  {
   "cell_type": "markdown",
   "metadata": {},
   "source": [
    "## Data Clean up process "
   ]
  },
  {
   "cell_type": "markdown",
   "metadata": {},
   "source": [
    "#### Find region and country of each entry "
   ]
  },
  {
   "cell_type": "code",
   "execution_count": 69,
   "metadata": {
    "collapsed": false
   },
   "outputs": [],
   "source": [
    "all_wof_data=all_wof_data[['country_id','region_id','placetype','id']]\n",
    "unique_concordances_dist_wof=final_all_titles_ids_join_not_null.join(all_wof_data.set_index(['id']), on = 'wof:id', how = 'left', rsuffix='_right')\n",
    "countries=read_data(\"..\\Analyzed_data\\\\wof-country-latest.csv\")\n",
    "regions=read_data(\"..\\Analyzed_data\\\\wof-region-latest.csv\")\n",
    "countries=countries[['id', 'name']]\n",
    "regions = regions[['id', 'name']]"
   ]
  },
  {
   "cell_type": "code",
   "execution_count": 70,
   "metadata": {
    "collapsed": false
   },
   "outputs": [],
   "source": [
    "unique_concordances_dist_wof_countries=unique_concordances_dist_wof.join(countries.set_index(['id']), on = 'country_id', how = 'left', rsuffix='_country')\n",
    "unique_concordances_dist_wof_coun_reg=unique_concordances_dist_wof_countries.join(regions.set_index(['id']), on = 'region_id', how = 'left', rsuffix='_region')\n",
    "unique_concordances_dist_wof_coun_reg['new_name_country'] = unique_concordances_dist_wof_coun_reg['name']+', '+unique_concordances_dist_wof_coun_reg['name_country']\n",
    "unique_concordances_dist_wof_coun_reg['new_name_region'] = unique_concordances_dist_wof_coun_reg['name']+', '+unique_concordances_dist_wof_coun_reg['name_region']"
   ]
  },
  {
   "cell_type": "markdown",
   "metadata": {},
   "source": [
    "#### Calculate Levenshtein Distance "
   ]
  },
  {
   "cell_type": "code",
   "execution_count": 71,
   "metadata": {
    "collapsed": false
   },
   "outputs": [],
   "source": [
    "unique_concordances_dist=[]\n",
    "for index, row in unique_concordances_dist_wof_coun_reg.iterrows():\n",
    "    leve_dist=editdistance.eval(row['name'], row['wk:page'])\n",
    "    length1=len(row['wk:page'])\n",
    "    length2=len(row['name'])\n",
    "    rank=leve_dist/max(length1,length2)\n",
    "    row['leve_dist']=rank\n",
    "    unique_concordances_dist.append(row)\n",
    "\n",
    "unique_concordances_dist=pd.DataFrame(unique_concordances_dist)"
   ]
  },
  {
   "cell_type": "code",
   "execution_count": 72,
   "metadata": {
    "collapsed": false
   },
   "outputs": [],
   "source": [
    "unique_concordances_dist_country=[]\n",
    "for index, row in unique_concordances_dist.iterrows(): \n",
    "    if row['leve_dist'] == 0.0:\n",
    "        row['leve_country'] = row['leve_dist']\n",
    "    elif str(row['name_country']) == 'nan':  \n",
    "        row['leve_country'] = row['leve_dist']\n",
    "    else:\n",
    "        leve_dist=editdistance.eval(row['new_name_country'], row['wk:page'])\n",
    "        length1=len(row['wk:page'])\n",
    "        length2=len(row['new_name_country'])\n",
    "        rank=leve_dist/max(length1,length2)\n",
    "        row['leve_country']=rank\n",
    "    unique_concordances_dist_country.append(row)\n",
    "unique_concordances_dist_country=pd.DataFrame(unique_concordances_dist_country)"
   ]
  },
  {
   "cell_type": "code",
   "execution_count": 73,
   "metadata": {
    "collapsed": false
   },
   "outputs": [],
   "source": [
    "unique_concordances_dist_count_region=[]\n",
    "for index, row in unique_concordances_dist_country.iterrows(): \n",
    "    if row['leve_country'] == 0.0:\n",
    "        row['leve_region'] = row['leve_country']\n",
    "    elif str(row['name_region']) == 'nan':  \n",
    "        row['leve_region'] = row['leve_country']\n",
    "    else:\n",
    "        leve_dist=editdistance.eval(row['new_name_region'], row['wk:page'])\n",
    "        length1=len(row['wk:page'])\n",
    "        length2=len(row['new_name_region'])\n",
    "        rank=leve_dist/max(length1,length2)\n",
    "        row['leve_region']=rank\n",
    "    unique_concordances_dist_count_region.append(row)\n",
    "unique_concordances_dist_count_region=pd.DataFrame(unique_concordances_dist_count_region)"
   ]
  },
  {
   "cell_type": "code",
   "execution_count": 74,
   "metadata": {
    "collapsed": false
   },
   "outputs": [],
   "source": [
    "unique_concordances_dist_actual=[]\n",
    "for index, row in unique_concordances_dist_count_region.iterrows():\n",
    "    leve_dist=editdistance.eval(row['name'], row['wk:page'])\n",
    "    rank=leve_dist\n",
    "    row['leve_dist_actual']=rank\n",
    "    if str(row['name_country']) != 'nan':\n",
    "        leve_dist_cou=editdistance.eval(row['new_name_country'], row['wk:page'])\n",
    "        rank_co=leve_dist_cou\n",
    "        row['leve_dist_co_actual']=rank_co\n",
    "    if str(row['name_region']) != 'nan':\n",
    "        leve_dist_re=editdistance.eval(row['new_name_region'], row['wk:page'])\n",
    "        rank_re=leve_dist_re\n",
    "        row['leve_dist_re_actual']=rank_re\n",
    "    unique_concordances_dist_actual.append(row)\n",
    "unique_concordances_dist_actual=pd.DataFrame(unique_concordances_dist_actual)"
   ]
  },
  {
   "cell_type": "markdown",
   "metadata": {},
   "source": [
    "#### If Levenshtein distance matches say OK"
   ]
  },
  {
   "cell_type": "code",
   "execution_count": 75,
   "metadata": {
    "collapsed": false
   },
   "outputs": [],
   "source": [
    "unique_concordances_dist_count_region_1=[]\n",
    "for index, row in unique_concordances_dist_actual.iterrows():\n",
    "    if row['leve_dist'] == 0.0 or row['leve_country'] == 0.0 or row['leve_region'] == 0.0:\n",
    "        row['spell_check'] = 'OK'\n",
    "    unique_concordances_dist_count_region_1.append(row)\n",
    "unique_concordances_dist_count_region_1=pd.DataFrame(unique_concordances_dist_count_region_1)\n"
   ]
  },
  {
   "cell_type": "markdown",
   "metadata": {},
   "source": [
    "#### Clean for Lists, Timelines, Birthdays, numbers etc.. "
   ]
  },
  {
   "cell_type": "code",
   "execution_count": 76,
   "metadata": {
    "collapsed": false
   },
   "outputs": [],
   "source": [
    "unique_concordances_dist_count_region_1.ix[(unique_concordances_dist_count_region_1['wk:page'].str.contains(\"List\")) & (unique_concordances_dist_count_region_1['spell_check']=='maybe'), 'spell_check'] = 'NO'\n",
    "unique_concordances_dist_count_region_1.ix[(unique_concordances_dist_count_region_1['wk:page'].str.contains(\"Timeline\")) & (unique_concordances_dist_count_region_1['spell_check']=='maybe'), 'spell_check'] = 'NO'\n",
    "unique_concordances_dist_count_region_1.ix[(unique_concordances_dist_count_region_1['wk:page'].str.contains(\"Birthday\")) & (unique_concordances_dist_count_region_1['spell_check']=='maybe'), 'spell_check'] = 'NO'\n",
    "unique_concordances_dist_count_region_1.ix[(unique_concordances_dist_count_region_1['wk:page'].str.contains(\"Aircraft\")) & (unique_concordances_dist_count_region_1['spell_check']=='maybe'), 'spell_check'] = 'NO'\n",
    "unique_concordances_dist_count_region_1.ix[(unique_concordances_dist_count_region_1['wk:page'].str.contains(\"Political\")) & (unique_concordances_dist_count_region_1['spell_check']=='maybe'), 'spell_check'] = 'NO'\n",
    "unique_concordances_dist_count_region_1.ix[(unique_concordances_dist_count_region_1['wk:page'].str.contains(\"Environmental\")) & (unique_concordances_dist_count_region_1['spell_check']=='maybe'), 'spell_check'] = 'NO'\n",
    "unique_concordances_dist_count_region_1.ix[(unique_concordances_dist_count_region_1['wk:page'].str.contains(\"International\")) & (unique_concordances_dist_count_region_1['spell_check']=='maybe'), 'spell_check'] = 'NO'\n",
    "unique_concordances_dist_count_region_1.ix[(unique_concordances_dist_count_region_1['wk:page'].str.contains(\"music\")) & (unique_concordances_dist_count_region_1['spell_check']=='maybe'), 'spell_check'] = 'NO'\n",
    "unique_concordances_dist_count_region_1.ix[(unique_concordances_dist_count_region_1['wk:page'].str.contains(\"History\")) & (unique_concordances_dist_count_region_1['spell_check']=='maybe'), 'spell_check'] = 'NO'\n",
    "unique_concordances_dist_count_region_1.ix[(unique_concordances_dist_count_region_1['wk:page'].str.contains(\"1\")) & (unique_concordances_dist_count_region_1['spell_check']=='maybe'), 'spell_check'] = 'NO'\n",
    "unique_concordances_dist_count_region_1.ix[(unique_concordances_dist_count_region_1['wk:page'].str.contains(\"2\")) & (unique_concordances_dist_count_region_1['spell_check']=='maybe'), 'spell_check'] = 'NO'\n",
    "unique_concordances_dist_count_region_1.ix[(unique_concordances_dist_count_region_1['wk:page'].str.contains(\"3\")) & (unique_concordances_dist_count_region_1['spell_check']=='maybe'), 'spell_check'] = 'NO'\n",
    "unique_concordances_dist_count_region_1.ix[(unique_concordances_dist_count_region_1['wk:page'].str.contains(\"4\")) & (unique_concordances_dist_count_region_1['spell_check']=='maybe'), 'spell_check'] = 'NO'\n",
    "unique_concordances_dist_count_region_1.ix[(unique_concordances_dist_count_region_1['wk:page'].str.contains(\"5\")) & (unique_concordances_dist_count_region_1['spell_check']=='maybe'), 'spell_check'] = 'NO'\n",
    "unique_concordances_dist_count_region_1.ix[(unique_concordances_dist_count_region_1['wk:page'].str.contains(\"6\")) & (unique_concordances_dist_count_region_1['spell_check']=='maybe'), 'spell_check'] = 'NO'\n",
    "unique_concordances_dist_count_region_1.ix[(unique_concordances_dist_count_region_1['wk:page'].str.contains(\"7\")) & (unique_concordances_dist_count_region_1['spell_check']=='maybe'), 'spell_check'] = 'NO'\n",
    "unique_concordances_dist_count_region_1.ix[(unique_concordances_dist_count_region_1['wk:page'].str.contains(\"8\")) & (unique_concordances_dist_count_region_1['spell_check']=='maybe'), 'spell_check'] = 'NO'\n",
    "unique_concordances_dist_count_region_1.ix[(unique_concordances_dist_count_region_1['wk:page'].str.contains(\"9\")) & (unique_concordances_dist_count_region_1['spell_check']=='maybe'), 'spell_check'] = 'NO'\n",
    "unique_concordances_dist_count_region_1.ix[(unique_concordances_dist_count_region_1['wk:page'].str.contains(\"0\")) & (unique_concordances_dist_count_region_1['spell_check']=='maybe'), 'spell_check'] = 'NO'"
   ]
  },
  {
   "cell_type": "markdown",
   "metadata": {},
   "source": [
    "#### Clean for Airpots and Facilities "
   ]
  },
  {
   "cell_type": "code",
   "execution_count": 77,
   "metadata": {
    "collapsed": false
   },
   "outputs": [],
   "source": [
    "unique_concordances_dist_count_region_2=[]\n",
    "for index, row in unique_concordances_dist_count_region_1.iterrows():\n",
    "    if ((row['name'].find('Air')!=-1) and (row['wk:page'].find('Air') == -1)):\n",
    "        row['spell_check'] = 'NO'\n",
    "    elif ((row['name'].find('Field')!=-1) and (row['wk:page'].find('Field') == -1)):\n",
    "        row['spell_check'] = 'NO'\n",
    "    elif ((row['name'].find('Facility')!=-1) and (row['wk:page'].find('Facility') == -1)):\n",
    "        row['spell_check'] = 'NO'\n",
    "    elif ((row['name'].find('Aero')!=-1) and (row['wk:page'].find('Air') == -1)):\n",
    "        row['spell_check'] = 'NO'\n",
    "    else:\n",
    "        pass\n",
    "    unique_concordances_dist_count_region_2.append(row)\n",
    "unique_concordances_dist_count_region_2=pd.DataFrame(unique_concordances_dist_count_region_2)"
   ]
  },
  {
   "cell_type": "code",
   "execution_count": 78,
   "metadata": {
    "collapsed": true
   },
   "outputs": [],
   "source": [
    "unique_concordances_fix_maybe = unique_concordances_dist_actual"
   ]
  },
  {
   "cell_type": "code",
   "execution_count": 79,
   "metadata": {
    "collapsed": true
   },
   "outputs": [],
   "source": [
    "unique_concordances_fix_maybe.ix[(unique_concordances_fix_maybe['name']=='Curacao'), 'spell_check'] = 'OK'\n",
    "unique_concordances_fix_maybe.ix[(unique_concordances_fix_maybe['name']=='السودان'), 'spell_check'] = 'OK'\n",
    "unique_concordances_fix_maybe.ix[(unique_concordances_fix_maybe['name']=='Bronx'), 'spell_check'] = 'OK'\n",
    "unique_concordances_fix_maybe.ix[(unique_concordances_fix_maybe['name']=='Coxs Bazar Airport'), 'spell_check'] = 'OK'"
   ]
  },
  {
   "cell_type": "markdown",
   "metadata": {},
   "source": [
    "####  Check for Levenshtein distances"
   ]
  },
  {
   "cell_type": "code",
   "execution_count": 80,
   "metadata": {
    "collapsed": true
   },
   "outputs": [],
   "source": [
    "unique_concordances_fix_maybe.ix[(unique_concordances_fix_maybe['leve_dist_actual']<2) & (unique_concordances_fix_maybe['leve_dist_actual']>0)& (unique_concordances_fix_maybe['spell_check']=='maybe'), 'spell_check'] = 'OK'"
   ]
  },
  {
   "cell_type": "code",
   "execution_count": 81,
   "metadata": {
    "collapsed": true
   },
   "outputs": [],
   "source": [
    "unique_concordances_fix_maybe.ix[(unique_concordances_fix_maybe['leve_dist_re_actual']<6) & (unique_concordances_fix_maybe['leve_dist_re_actual']>0)& (unique_concordances_fix_maybe['spell_check']=='maybe') , 'spell_check'] = 'OK'"
   ]
  },
  {
   "cell_type": "code",
   "execution_count": 82,
   "metadata": {
    "collapsed": true
   },
   "outputs": [],
   "source": [
    "unique_concordances_fix_maybe.ix[(unique_concordances_fix_maybe['leve_dist_co_actual']<4) & (unique_concordances_fix_maybe['leve_dist_co_actual']>0) &(unique_concordances_fix_maybe['spell_check']=='maybe'), 'spell_check'] = 'OK'"
   ]
  },
  {
   "cell_type": "code",
   "execution_count": 83,
   "metadata": {
    "collapsed": true
   },
   "outputs": [],
   "source": [
    "unique_concordances_fix_maybe.ix[(unique_concordances_fix_maybe['leve_dist']<0.4)& (unique_concordances_fix_maybe['spell_check']=='maybe'), 'spell_check'] = 'OK'"
   ]
  },
  {
   "cell_type": "code",
   "execution_count": 84,
   "metadata": {
    "collapsed": true
   },
   "outputs": [],
   "source": [
    "unique_concordances_fix_maybe.ix[(unique_concordances_fix_maybe['leve_region']<0.3)& (unique_concordances_fix_maybe['spell_check']=='maybe'), 'spell_check'] = 'OK'"
   ]
  },
  {
   "cell_type": "code",
   "execution_count": 85,
   "metadata": {
    "collapsed": true
   },
   "outputs": [],
   "source": [
    "unique_concordances_fix_maybe.ix[(unique_concordances_fix_maybe['leve_country']<0.3)& (unique_concordances_fix_maybe['spell_check']=='maybe'), 'spell_check'] = 'OK'"
   ]
  },
  {
   "cell_type": "code",
   "execution_count": 86,
   "metadata": {
    "collapsed": true
   },
   "outputs": [],
   "source": [
    "unique_concordances_fix_maybe.ix[(unique_concordances_fix_maybe['leve_dist']>0.8)& (unique_concordances_fix_maybe['spell_check']=='maybe')&(unique_concordances_fix_maybe['name_country']!='Greece')&(unique_concordances_fix_maybe['name_country']!='Cyprus'), 'spell_check'] = 'NO'"
   ]
  },
  {
   "cell_type": "code",
   "execution_count": 87,
   "metadata": {
    "collapsed": true
   },
   "outputs": [],
   "source": [
    "unique_concordances_fix_maybe.ix[(unique_concordances_fix_maybe['leve_region']>0.8)& (unique_concordances_fix_maybe['spell_check']=='maybe')&(unique_concordances_fix_maybe['name_country']!='Greece')&(unique_concordances_fix_maybe['name_country']!='Cyprus'), 'spell_check'] = 'NO'"
   ]
  },
  {
   "cell_type": "code",
   "execution_count": 88,
   "metadata": {
    "collapsed": true
   },
   "outputs": [],
   "source": [
    "unique_concordances_fix_maybe.ix[(unique_concordances_fix_maybe['leve_country']>0.8)& (unique_concordances_fix_maybe['spell_check']=='maybe')&(unique_concordances_fix_maybe['name_country']!='Greece')&(unique_concordances_fix_maybe['name_country']!='Cyprus'), 'spell_check'] = 'NO'"
   ]
  },
  {
   "cell_type": "code",
   "execution_count": 89,
   "metadata": {
    "collapsed": false,
    "scrolled": true
   },
   "outputs": [
    {
     "data": {
      "text/html": [
       "<div>\n",
       "<table border=\"1\" class=\"dataframe\">\n",
       "  <thead>\n",
       "    <tr style=\"text-align: right;\">\n",
       "      <th></th>\n",
       "      <th>wof:name</th>\n",
       "      <th>wk:page</th>\n",
       "      <th>name_region</th>\n",
       "      <th>leve_dist_r</th>\n",
       "      <th>leve_region_r</th>\n",
       "      <th>leve_country_r</th>\n",
       "      <th>spell_check</th>\n",
       "    </tr>\n",
       "  </thead>\n",
       "  <tbody>\n",
       "    <tr>\n",
       "      <th>28</th>\n",
       "      <td>Coxs Bazar Airport</td>\n",
       "      <td>Cox's Bazar Airport</td>\n",
       "      <td>Chittagong</td>\n",
       "      <td>0.05</td>\n",
       "      <td>0.43</td>\n",
       "      <td>0.43</td>\n",
       "      <td>OK</td>\n",
       "    </tr>\n",
       "    <tr>\n",
       "      <th>31</th>\n",
       "      <td>Ishurdi Airport</td>\n",
       "      <td>Ishwardi Airport</td>\n",
       "      <td>Rajshahi</td>\n",
       "      <td>0.12</td>\n",
       "      <td>0.48</td>\n",
       "      <td>0.52</td>\n",
       "      <td>OK</td>\n",
       "    </tr>\n",
       "    <tr>\n",
       "      <th>39</th>\n",
       "      <td>Tafaraoui Airport</td>\n",
       "      <td>Oran Tafraoui Airport</td>\n",
       "      <td>Oran</td>\n",
       "      <td>0.29</td>\n",
       "      <td>0.52</td>\n",
       "      <td>0.58</td>\n",
       "      <td>OK</td>\n",
       "    </tr>\n",
       "    <tr>\n",
       "      <th>65</th>\n",
       "      <td>In Amguel Airport</td>\n",
       "      <td>Tamanrasset</td>\n",
       "      <td>Tamanghasset</td>\n",
       "      <td>0.88</td>\n",
       "      <td>0.68</td>\n",
       "      <td>0.88</td>\n",
       "      <td>NO</td>\n",
       "    </tr>\n",
       "    <tr>\n",
       "      <th>73</th>\n",
       "      <td>Tiska Airport</td>\n",
       "      <td>Djanet Inedbirene Airport</td>\n",
       "      <td>Illizi</td>\n",
       "      <td>0.64</td>\n",
       "      <td>0.88</td>\n",
       "      <td>0.84</td>\n",
       "      <td>NO</td>\n",
       "    </tr>\n",
       "    <tr>\n",
       "      <th>109</th>\n",
       "      <td>Lewis B Wilson Airport</td>\n",
       "      <td>Middle Georgia Regional Airport</td>\n",
       "      <td>Georgia</td>\n",
       "      <td>0.61</td>\n",
       "      <td>0.90</td>\n",
       "      <td>0.86</td>\n",
       "      <td>NO</td>\n",
       "    </tr>\n",
       "    <tr>\n",
       "      <th>160</th>\n",
       "      <td>Pontiac Municipal Airport</td>\n",
       "      <td>Oakland County International Airport</td>\n",
       "      <td>Illinois</td>\n",
       "      <td>0.58</td>\n",
       "      <td>0.86</td>\n",
       "      <td>0.88</td>\n",
       "      <td>NO</td>\n",
       "    </tr>\n",
       "    <tr>\n",
       "      <th>1133</th>\n",
       "      <td>Scottsville</td>\n",
       "      <td>Scottsville, Kentucky</td>\n",
       "      <td>Kentucky</td>\n",
       "      <td>0.48</td>\n",
       "      <td>0.00</td>\n",
       "      <td>0.42</td>\n",
       "      <td>OK</td>\n",
       "    </tr>\n",
       "    <tr>\n",
       "      <th>2864</th>\n",
       "      <td>Scottsville</td>\n",
       "      <td>Scottsville, California</td>\n",
       "      <td>California</td>\n",
       "      <td>0.52</td>\n",
       "      <td>0.00</td>\n",
       "      <td>0.46</td>\n",
       "      <td>OK</td>\n",
       "    </tr>\n",
       "    <tr>\n",
       "      <th>4891</th>\n",
       "      <td>Scottsville</td>\n",
       "      <td>Scottsville, Kansas</td>\n",
       "      <td>Kansas</td>\n",
       "      <td>0.42</td>\n",
       "      <td>0.00</td>\n",
       "      <td>0.42</td>\n",
       "      <td>OK</td>\n",
       "    </tr>\n",
       "  </tbody>\n",
       "</table>\n",
       "</div>"
      ],
      "text/plain": [
       "                       wof:name                               wk:page  \\\n",
       "28           Coxs Bazar Airport                   Cox's Bazar Airport   \n",
       "31              Ishurdi Airport                      Ishwardi Airport   \n",
       "39            Tafaraoui Airport                 Oran Tafraoui Airport   \n",
       "65            In Amguel Airport                           Tamanrasset   \n",
       "73                Tiska Airport             Djanet Inedbirene Airport   \n",
       "109      Lewis B Wilson Airport       Middle Georgia Regional Airport   \n",
       "160   Pontiac Municipal Airport  Oakland County International Airport   \n",
       "1133                Scottsville                 Scottsville, Kentucky   \n",
       "2864                Scottsville               Scottsville, California   \n",
       "4891                Scottsville                   Scottsville, Kansas   \n",
       "\n",
       "       name_region  leve_dist_r  leve_region_r  leve_country_r spell_check  \n",
       "28      Chittagong         0.05           0.43            0.43          OK  \n",
       "31        Rajshahi         0.12           0.48            0.52          OK  \n",
       "39            Oran         0.29           0.52            0.58          OK  \n",
       "65    Tamanghasset         0.88           0.68            0.88          NO  \n",
       "73          Illizi         0.64           0.88            0.84          NO  \n",
       "109        Georgia         0.61           0.90            0.86          NO  \n",
       "160       Illinois         0.58           0.86            0.88          NO  \n",
       "1133      Kentucky         0.48           0.00            0.42          OK  \n",
       "2864    California         0.52           0.00            0.46          OK  \n",
       "4891        Kansas         0.42           0.00            0.42          OK  "
      ]
     },
     "execution_count": 89,
     "metadata": {},
     "output_type": "execute_result"
    }
   ],
   "source": [
    "print_test_leve=unique_concordances_fix_maybe[((unique_concordances_fix_maybe['name']=='In Amguel Airport')|\n",
    "                                   (unique_concordances_fix_maybe['name']=='Scottsville')|\n",
    "                                   (unique_concordances_fix_maybe['name']=='Lewis B Wilson Airport')|\n",
    "                                   (unique_concordances_fix_maybe['name']=='Pontiac Municipal Airport')|\n",
    "                                     (unique_concordances_fix_maybe['name']=='Tiska Airport')|\n",
    "                                     (unique_concordances_fix_maybe['name']=='Coxs Bazar Airport')|\n",
    "                                   (unique_concordances_fix_maybe['name']=='Ishurdi Airport')|\n",
    "                                   (unique_concordances_fix_maybe['name']=='Tafaraoui Airport'))]\n",
    "print_test_leve=print_test_leve[(print_test_leve['wk:page']!='Scottsville')]\n",
    "print_test_leve=print_test_leve[(print_test_leve['wk:page']!='Scottsville, Virginia')]\n",
    "print_test_leve=print_test_leve[(print_test_leve['wk:page']!='Scottsville, Texas')]\n",
    "print_test_leve=print_test_leve[(print_test_leve['wk:page']!='Scottsville, New York')]\n",
    "print_test_leve=print_test_leve[(print_test_leve['wof:id']!=102521985)]\n",
    "print_test_leve['leve_dist_r'] = print_test_leve['leve_dist'].round(2)\n",
    "print_test_leve['leve_region_r'] = print_test_leve['leve_region'].round(2)\n",
    "print_test_leve['leve_country_r'] = print_test_leve['leve_country'].round(2)\n",
    "show_data_1=print_test_leve[['wof:name', 'wk:page','name_region','leve_dist_r','leve_region_r','leve_country_r','spell_check']]\n",
    "show_data_1"
   ]
  },
  {
   "cell_type": "markdown",
   "metadata": {},
   "source": [
    "#### Check for slavic languages "
   ]
  },
  {
   "cell_type": "code",
   "execution_count": 90,
   "metadata": {
    "collapsed": true
   },
   "outputs": [],
   "source": [
    "unique_concordances_fix_maybe.ix[(unique_concordances_fix_maybe['name_country']=='Ukraine')& (unique_concordances_fix_maybe['spell_check']=='maybe'), 'spell_check'] = 'OK'"
   ]
  },
  {
   "cell_type": "code",
   "execution_count": 91,
   "metadata": {
    "collapsed": true
   },
   "outputs": [],
   "source": [
    "unique_concordances_fix_maybe.ix[(unique_concordances_fix_maybe['name_country']=='Bulgaria')& (unique_concordances_fix_maybe['spell_check']=='maybe'), 'spell_check'] = 'OK'"
   ]
  },
  {
   "cell_type": "code",
   "execution_count": 92,
   "metadata": {
    "collapsed": true
   },
   "outputs": [],
   "source": [
    "unique_concordances_fix_maybe.ix[(unique_concordances_fix_maybe['name_country']=='Poland')& (unique_concordances_fix_maybe['spell_check']=='maybe'), 'spell_check'] = 'OK'"
   ]
  },
  {
   "cell_type": "code",
   "execution_count": 93,
   "metadata": {
    "collapsed": true
   },
   "outputs": [],
   "source": [
    "unique_concordances_fix_maybe.ix[(unique_concordances_fix_maybe['name_country']=='Slovenia')& (unique_concordances_fix_maybe['spell_check']=='maybe'), 'spell_check'] = 'OK'\n",
    "unique_concordances_fix_maybe.ix[(unique_concordances_fix_maybe['name_country']=='Croatia')& (unique_concordances_fix_maybe['spell_check']=='maybe'), 'spell_check'] = 'OK'\n",
    "unique_concordances_fix_maybe.ix[(unique_concordances_fix_maybe['name_country']=='Moldova')& (unique_concordances_fix_maybe['spell_check']=='maybe'), 'spell_check'] = 'OK'"
   ]
  },
  {
   "cell_type": "markdown",
   "metadata": {
    "collapsed": true
   },
   "source": [
    "#### Check for Greek languages "
   ]
  },
  {
   "cell_type": "code",
   "execution_count": 94,
   "metadata": {
    "collapsed": false
   },
   "outputs": [],
   "source": [
    "unique_concordances_fix_maybe.ix[(unique_concordances_fix_maybe['name']=='ΝΕΟΙ ΕΠΙΒΑΤΑΙ') & (unique_concordances_fix_maybe['spell_check']=='maybe'), 'spell_check'] = 'NO'\n",
    "unique_concordances_fix_maybe.ix[(unique_concordances_fix_maybe['name']=='ΙΕΡΙΣΣΟΣ') & (unique_concordances_fix_maybe['spell_check']=='maybe'), 'spell_check'] = 'NO'\n",
    "unique_concordances_fix_maybe.ix[(unique_concordances_fix_maybe['name']=='ΠΑΡΑΛΙΑ') & (unique_concordances_fix_maybe['spell_check']=='maybe'), 'spell_check'] = 'NO'\n",
    "unique_concordances_fix_maybe.ix[(unique_concordances_fix_maybe['name']=='ΚΑΛΛΙΘΕΑ') & (unique_concordances_fix_maybe['spell_check']=='maybe'), 'spell_check'] = 'NO'\n",
    "unique_concordances_fix_maybe.ix[(unique_concordances_fix_maybe['name']=='ΥΔΡΑ') & (unique_concordances_fix_maybe['spell_check']=='maybe'), 'spell_check'] = 'NO'\n",
    "unique_concordances_fix_maybe.ix[(unique_concordances_fix_maybe['name']=='ΙΟΣ') & (unique_concordances_fix_maybe['spell_check']=='maybe'), 'spell_check'] = 'NO'\n",
    "unique_concordances_fix_maybe.ix[(unique_concordances_fix_maybe['name']=='ΣΤΑΥΡΟΣ') & (unique_concordances_fix_maybe['spell_check']=='maybe'), 'spell_check'] = 'NO'\n",
    "unique_concordances_fix_maybe.ix[(unique_concordances_fix_maybe['name']=='ΑΡΜΑ') & (unique_concordances_fix_maybe['spell_check']=='maybe'), 'spell_check'] = 'NO'\n",
    "unique_concordances_fix_maybe.ix[(unique_concordances_fix_maybe['name']=='ΒΑΘΥ') & (unique_concordances_fix_maybe['spell_check']=='maybe'), 'spell_check'] = 'NO'\n",
    "unique_concordances_fix_maybe.ix[(unique_concordances_fix_maybe['name']=='ΑΡΙΑ') & (unique_concordances_fix_maybe['spell_check']=='maybe'), 'spell_check'] = 'NO'\n",
    "unique_concordances_fix_maybe.ix[(unique_concordances_fix_maybe['name']=='Amfithea') & (unique_concordances_fix_maybe['spell_check']=='maybe'), 'spell_check'] = 'NO'\n",
    "unique_concordances_fix_maybe.ix[(unique_concordances_fix_maybe['name']=='Káto Ília') & (unique_concordances_fix_maybe['spell_check']=='maybe'), 'spell_check'] = 'NO'\n",
    "unique_concordances_fix_maybe.ix[(unique_concordances_fix_maybe['name']=='Ilioupoli Athinon') & (unique_concordances_fix_maybe['spell_check']=='maybe'), 'spell_check'] = 'NO'\n",
    "unique_concordances_fix_maybe.ix[(unique_concordances_fix_maybe['name']=='Kynosargous') & (unique_concordances_fix_maybe['spell_check']=='maybe'), 'spell_check'] = 'NO'\n",
    "unique_concordances_fix_maybe.ix[(unique_concordances_fix_maybe['name']=='Dourgouti') & (unique_concordances_fix_maybe['spell_check']=='maybe'), 'spell_check'] = 'NO'\n",
    "unique_concordances_fix_maybe.ix[(unique_concordances_fix_maybe['name']=='Katsipodi') & (unique_concordances_fix_maybe['spell_check']=='maybe'), 'spell_check'] = 'NO'\n",
    "unique_concordances_fix_maybe.ix[(unique_concordances_fix_maybe['name']=='Mets') & (unique_concordances_fix_maybe['spell_check']=='maybe'), 'spell_check'] = 'NO'\n",
    "unique_concordances_fix_maybe.ix[(unique_concordances_fix_maybe['name']=='Λευκωσία') & (unique_concordances_fix_maybe['spell_check']=='maybe'), 'spell_check'] = 'NO'\n",
    "unique_concordances_fix_maybe.ix[(unique_concordances_fix_maybe['name']=='Λεμεσός') & (unique_concordances_fix_maybe['spell_check']=='maybe'), 'spell_check'] = 'NO'\n",
    "unique_concordances_fix_maybe.ix[(unique_concordances_fix_maybe['name']=='ΑΓΙΟΝ ΠΝΕΥΜΑ') & (unique_concordances_fix_maybe['spell_check']=='maybe'), 'spell_check'] = 'NO'\n"
   ]
  },
  {
   "cell_type": "code",
   "execution_count": 95,
   "metadata": {
    "collapsed": true
   },
   "outputs": [],
   "source": [
    "unique_concordances_fix_maybe.ix[(unique_concordances_fix_maybe['name_country']=='Greece')& (unique_concordances_fix_maybe['spell_check']=='maybe'), 'spell_check'] = 'OK'\n",
    "unique_concordances_fix_maybe.ix[(unique_concordances_fix_maybe['name_country']=='Cyprus')& (unique_concordances_fix_maybe['spell_check']=='maybe'), 'spell_check'] = 'OK'"
   ]
  },
  {
   "cell_type": "markdown",
   "metadata": {},
   "source": [
    "#### Check for Spanish language"
   ]
  },
  {
   "cell_type": "code",
   "execution_count": 96,
   "metadata": {
    "collapsed": false
   },
   "outputs": [],
   "source": [
    "unique_concordances_fix_maybe.ix[(unique_concordances_fix_maybe['name']=='Penilla, La') & (unique_concordances_fix_maybe['spell_check']=='maybe'), 'spell_check'] = 'NO'\n",
    "unique_concordances_fix_maybe.ix[(unique_concordances_fix_maybe['name']=='Revilla') & (unique_concordances_fix_maybe['spell_check']=='maybe'), 'spell_check'] = 'NO'\n",
    "unique_concordances_fix_maybe.ix[(unique_concordances_fix_maybe['name']=='La Guardia (Santa María)') & (unique_concordances_fix_maybe['spell_check']=='maybe'), 'spell_check'] = 'NO'\n",
    "unique_concordances_fix_maybe.ix[(unique_concordances_fix_maybe['name']=='Baies, les') & (unique_concordances_fix_maybe['spell_check']=='maybe'), 'spell_check'] = 'NO'\n",
    "unique_concordances_fix_maybe.ix[(unique_concordances_fix_maybe['name']=='Port de Llançà, el') & (unique_concordances_fix_maybe['spell_check']=='maybe'), 'spell_check'] = 'NO'\n",
    "unique_concordances_fix_maybe.ix[(unique_concordances_fix_maybe['name']=='Apatamonasterio') & (unique_concordances_fix_maybe['spell_check']=='maybe'), 'spell_check'] = 'NO'\n",
    "unique_concordances_fix_maybe.ix[(unique_concordances_fix_maybe['name']=='Caraquiz') & (unique_concordances_fix_maybe['spell_check']=='maybe'), 'spell_check'] = 'NO'\n",
    "unique_concordances_fix_maybe.ix[(unique_concordances_fix_maybe['name']=='Grau de Castelló') & (unique_concordances_fix_maybe['spell_check']=='maybe'), 'spell_check'] = 'NO'\n",
    "unique_concordances_fix_maybe.ix[(unique_concordances_fix_maybe['name']=='Alberche del Caudillo') & (unique_concordances_fix_maybe['spell_check']=='maybe'), 'spell_check'] = 'NO'\n",
    "unique_concordances_fix_maybe.ix[(unique_concordances_fix_maybe['name']=='Penilla, La') & (unique_concordances_fix_maybe['spell_check']=='maybe'), 'spell_check'] = 'NO'\n",
    "unique_concordances_fix_maybe.ix[(unique_concordances_fix_maybe['name']=='Bay Le Moine') & (unique_concordances_fix_maybe['spell_check']=='maybe'), 'spell_check'] = 'NO'\n",
    "unique_concordances_fix_maybe.ix[(unique_concordances_fix_maybe['name']=='Gallarta') & (unique_concordances_fix_maybe['spell_check']=='maybe'), 'spell_check'] = 'NO'\n",
    "unique_concordances_fix_maybe.ix[(unique_concordances_fix_maybe['name']=='Real de Montroi') & (unique_concordances_fix_maybe['spell_check']=='maybe'), 'spell_check'] = 'NO'\n",
    "unique_concordances_fix_maybe.ix[(unique_concordances_fix_maybe['name']=='Tanque (El)') & (unique_concordances_fix_maybe['spell_check']=='maybe'), 'spell_check'] = 'NO'\n",
    "unique_concordances_fix_maybe.ix[(unique_concordances_fix_maybe['name']=='Aeropuerto de la Palma') & (unique_concordances_fix_maybe['spell_check']=='maybe'), 'spell_check'] = 'NO'\n",
    "unique_concordances_fix_maybe.ix[(unique_concordances_fix_maybe['name']=='Aeropuerto de Santiago') & (unique_concordances_fix_maybe['spell_check']=='maybe'), 'spell_check'] = 'NO'\n",
    "unique_concordances_fix_maybe.ix[(unique_concordances_fix_maybe['name']=='Aerodromo Provincial') & (unique_concordances_fix_maybe['spell_check']=='maybe'), 'spell_check'] = 'NO'\n",
    "unique_concordances_fix_maybe.ix[(unique_concordances_fix_maybe['name']=='Illes Balears') & (unique_concordances_fix_maybe['spell_check']=='maybe'), 'spell_check'] = 'NO'\n",
    "unique_concordances_fix_maybe.ix[(unique_concordances_fix_maybe['name']=='Sanchinarro') & (unique_concordances_fix_maybe['spell_check']=='maybe'), 'spell_check'] = 'NO'\n",
    "unique_concordances_fix_maybe.ix[(unique_concordances_fix_maybe['name']=='Pinares de Venecia') & (unique_concordances_fix_maybe['spell_check']=='maybe'), 'spell_check'] = 'NO'\n",
    "unique_concordances_fix_maybe.ix[(unique_concordances_fix_maybe['name']=='La Milagrosa') & (unique_concordances_fix_maybe['spell_check']=='maybe'), 'spell_check'] = 'NO'\n",
    "unique_concordances_fix_maybe.ix[(unique_concordances_fix_maybe['name']=='Valle Los Galanes') & (unique_concordances_fix_maybe['spell_check']=='maybe'), 'spell_check'] = 'NO'\n",
    "unique_concordances_fix_maybe.ix[(unique_concordances_fix_maybe['name']=='Illes Balears') & (unique_concordances_fix_maybe['spell_check']=='maybe'), 'spell_check'] = 'NO'"
   ]
  },
  {
   "cell_type": "code",
   "execution_count": 97,
   "metadata": {
    "collapsed": true
   },
   "outputs": [],
   "source": [
    "unique_concordances_fix_maybe.ix[(unique_concordances_fix_maybe['name_country']=='Spain')& (unique_concordances_fix_maybe['spell_check']=='maybe'), 'spell_check'] = 'OK'"
   ]
  },
  {
   "cell_type": "markdown",
   "metadata": {},
   "source": [
    "#### Check for Districts, Municipalities or Disambiguation "
   ]
  },
  {
   "cell_type": "code",
   "execution_count": 98,
   "metadata": {
    "collapsed": true
   },
   "outputs": [],
   "source": [
    "unique_concordances_fix_maybe_2=unique_concordances_fix_maybe"
   ]
  },
  {
   "cell_type": "code",
   "execution_count": 99,
   "metadata": {
    "collapsed": true
   },
   "outputs": [],
   "source": [
    "unique_concordances_fix_maybe_3=[]\n",
    "for index, row in unique_concordances_fix_maybe_2.iterrows():\n",
    "    if str(row['name']).find(\"District\")!=-1:\n",
    "        row['spell_check'] = 'OK'\n",
    "    elif str(row['name']).find(\"Municipality\")!=-1:\n",
    "        row['spell_check'] = 'OK'\n",
    "    elif str(row['wk:page']).find(\"disambiguation\")!=-1:\n",
    "        row['spell_check'] = 'NO'\n",
    "    else:\n",
    "        pass\n",
    "    unique_concordances_fix_maybe_3.append(row)\n",
    "unique_concordances_fix_maybe_3=pd.DataFrame(unique_concordances_fix_maybe_3)\n"
   ]
  },
  {
   "cell_type": "markdown",
   "metadata": {},
   "source": [
    "### Import some manual edits "
   ]
  },
  {
   "cell_type": "code",
   "execution_count": 100,
   "metadata": {
    "collapsed": false
   },
   "outputs": [],
   "source": [
    "manually=read_data(\"..\\Analyzed_data\\\\manual_titles.csv\")"
   ]
  },
  {
   "cell_type": "code",
   "execution_count": 101,
   "metadata": {
    "collapsed": true
   },
   "outputs": [],
   "source": [
    "unique_concordances_fix_maybe_4=unique_concordances_fix_maybe_3.join(manually.set_index(['wof:id']), on='wof:id', how = 'left')"
   ]
  },
  {
   "cell_type": "code",
   "execution_count": 102,
   "metadata": {
    "collapsed": true
   },
   "outputs": [],
   "source": [
    "unique_concordances_fix_maybe_4['spell_check']=np.where(unique_concordances_fix_maybe_4['status']=='OK',unique_concordances_fix_maybe_4['status'],unique_concordances_fix_maybe_4['spell_check'])\n",
    "unique_concordances_fix_maybe_4.ix[(unique_concordances_fix_maybe_4['wof:id']==102078709), 'spell_check'] = 'NO'\n",
    "unique_concordances_fix_maybe_4.ix[(unique_concordances_fix_maybe_4['wof:id']==420540203), 'spell_check'] = 'NO'"
   ]
  },
  {
   "cell_type": "markdown",
   "metadata": {},
   "source": [
    "#### Add placetype from SPARQL and check if right placetype "
   ]
  },
  {
   "cell_type": "code",
   "execution_count": 103,
   "metadata": {
    "collapsed": false
   },
   "outputs": [],
   "source": [
    "all_wiki_data=read_data('..\\Analyzed_data\\\\SPARQL_all.csv')"
   ]
  },
  {
   "cell_type": "code",
   "execution_count": 104,
   "metadata": {
    "collapsed": false
   },
   "outputs": [],
   "source": [
    "all_wiki_data=all_wiki_data[['wd:id','place']]"
   ]
  },
  {
   "cell_type": "code",
   "execution_count": 105,
   "metadata": {
    "collapsed": true
   },
   "outputs": [],
   "source": [
    "unique_concordances_fix_maybe_5=unique_concordances_fix_maybe_4[['name','wk:page','wd:id','placetype','spell_check','wof:id','leve_dist','leve_dist_actual', 'wk_page_id' ,'wordcount']]"
   ]
  },
  {
   "cell_type": "code",
   "execution_count": 106,
   "metadata": {
    "collapsed": false
   },
   "outputs": [],
   "source": [
    "all_wiki_data=find_unique(all_wiki_data, 'wd:id')"
   ]
  },
  {
   "cell_type": "code",
   "execution_count": 107,
   "metadata": {
    "collapsed": false
   },
   "outputs": [],
   "source": [
    "unique_concordances_fix_maybe_6=unique_concordances_fix_maybe_5.join(all_wiki_data.set_index(['wd:id']), on='wd:id', how='left')"
   ]
  },
  {
   "cell_type": "code",
   "execution_count": 108,
   "metadata": {
    "collapsed": true
   },
   "outputs": [],
   "source": [
    "unique_concordances_fix_maybe_6_dups = unique_concordances_fix_maybe_6[(unique_concordances_fix_maybe_6.duplicated('wd:id', keep=False)) & (unique_concordances_fix_maybe_6['place'].notnull())]"
   ]
  },
  {
   "cell_type": "code",
   "execution_count": 109,
   "metadata": {
    "collapsed": false
   },
   "outputs": [],
   "source": [
    "unique_concordances_fix_dups=[]\n",
    "for index , row in unique_concordances_fix_maybe_6_dups.iterrows():\n",
    "    if str(row['placetype']) !=' empire':\n",
    "        if str(row['placetype']) != str(row['place']):\n",
    "            row['check'] = 'NO'\n",
    "        else:\n",
    "            pass\n",
    "    unique_concordances_fix_dups.append(row)\n",
    "    \n",
    "unique_concordances_fix_dups=pd.DataFrame(unique_concordances_fix_dups)        "
   ]
  },
  {
   "cell_type": "code",
   "execution_count": 110,
   "metadata": {
    "collapsed": false
   },
   "outputs": [],
   "source": [
    "unique_concordances_fix_dups=unique_concordances_fix_dups[['wof:id','check']]"
   ]
  },
  {
   "cell_type": "code",
   "execution_count": 111,
   "metadata": {
    "collapsed": false
   },
   "outputs": [],
   "source": [
    "unique_concordances_fix_maybe_7=unique_concordances_fix_maybe_6.join(unique_concordances_fix_dups.set_index(['wof:id']), on='wof:id', how='left')"
   ]
  },
  {
   "cell_type": "code",
   "execution_count": 112,
   "metadata": {
    "collapsed": true
   },
   "outputs": [],
   "source": [
    "unique_concordances_fix_maybe_7['spell_check']=np.where(unique_concordances_fix_maybe_7['check'].notnull(),unique_concordances_fix_maybe_7['check'],unique_concordances_fix_maybe_7['spell_check'])"
   ]
  },
  {
   "cell_type": "code",
   "execution_count": 113,
   "metadata": {
    "collapsed": true
   },
   "outputs": [],
   "source": [
    "titles_OK = unique_concordances_fix_maybe_7[unique_concordances_fix_maybe_7['spell_check']=='OK']"
   ]
  },
  {
   "cell_type": "markdown",
   "metadata": {},
   "source": [
    "#### If multiple entries have the same title set it to the highest placetype "
   ]
  },
  {
   "cell_type": "code",
   "execution_count": 114,
   "metadata": {
    "collapsed": false
   },
   "outputs": [],
   "source": [
    "titles_OK_rank=[]\n",
    "for index, row in titles_OK.iterrows():\n",
    "    if row['placetype'] == 'continent':\n",
    "        row['place_rank'] = 1\n",
    "    elif row['placetype'] == 'country':\n",
    "        row['place_rank'] = 2\n",
    "    elif row['placetype'] == 'macroregion':\n",
    "        row['place_rank'] = 3\n",
    "    elif row['placetype'] == 'region':\n",
    "        row['place_rank'] = 4\n",
    "    elif row['placetype'] == 'macrocounty':\n",
    "        row['place_rank'] = 5\n",
    "    elif row['placetype'] == 'county':\n",
    "        row['place_rank'] = 6\n",
    "    elif row['placetype'] == 'locality':\n",
    "        row['place_rank'] = 7\n",
    "    elif row['placetype'] == 'borough':\n",
    "        row['place_rank'] = 8\n",
    "    elif row['placetype'] == 'macrohood':\n",
    "        row['place_rank'] = 9\n",
    "    elif row['placetype'] == 'neighborhood':\n",
    "        row['place_rank'] = 10\n",
    "    elif row['placetype'] == 'microhood':\n",
    "        row['place_rank'] = 11\n",
    "    elif row['placetype'] == 'campus':\n",
    "        row['place_rank'] = 12\n",
    "    titles_OK_rank.append(row)\n",
    "titles_OK_rank = pd.DataFrame(titles_OK_rank)"
   ]
  },
  {
   "cell_type": "code",
   "execution_count": 115,
   "metadata": {
    "collapsed": false
   },
   "outputs": [],
   "source": [
    "titles_OK_dups=titles_OK_rank[titles_OK_rank.duplicated('wk:page', keep=False)]"
   ]
  },
  {
   "cell_type": "code",
   "execution_count": 116,
   "metadata": {
    "collapsed": false
   },
   "outputs": [],
   "source": [
    "titles_grouped=titles_OK_dups.groupby('wk:page')"
   ]
  },
  {
   "cell_type": "code",
   "execution_count": 117,
   "metadata": {
    "collapsed": false
   },
   "outputs": [],
   "source": [
    "all_names= list(titles_OK_dups['wk:page'].unique())"
   ]
  },
  {
   "cell_type": "code",
   "execution_count": 118,
   "metadata": {
    "collapsed": false
   },
   "outputs": [],
   "source": [
    "index = np.arange(0)\n",
    "problematic = pd.DataFrame(index=index, columns=titles_OK_dups.columns)\n",
    "okay = pd.DataFrame(index=index, columns=titles_OK_dups.columns)"
   ]
  },
  {
   "cell_type": "code",
   "execution_count": 119,
   "metadata": {
    "collapsed": false,
    "scrolled": true
   },
   "outputs": [],
   "source": [
    "for name in all_names:\n",
    "    new_group=titles_grouped.get_group(name)\n",
    "    placetypes = list(new_group['placetype'].unique())\n",
    "    if len(placetypes)>1:\n",
    "        rank = min(new_group['place_rank'])\n",
    "        new_group['status'] = np.where(new_group['place_rank']==rank,'OK','NO')\n",
    "    else:\n",
    "        new_group['place_rank']='OK'\n",
    "    problematic = problematic.append(new_group)\n",
    "        "
   ]
  },
  {
   "cell_type": "code",
   "execution_count": 120,
   "metadata": {
    "collapsed": false
   },
   "outputs": [],
   "source": [
    "problematic['spell_check']=np.where(problematic['status'].notnull(),problematic['status'],problematic['spell_check'])"
   ]
  },
  {
   "cell_type": "code",
   "execution_count": 121,
   "metadata": {
    "collapsed": false
   },
   "outputs": [],
   "source": [
    "problematic_fix = problematic[['wof:id' , 'spell_check']]"
   ]
  },
  {
   "cell_type": "code",
   "execution_count": 122,
   "metadata": {
    "collapsed": false
   },
   "outputs": [],
   "source": [
    "unique_concordances_fix_maybe_8 =unique_concordances_fix_maybe_7.join(problematic_fix.set_index(['wof:id']), on = 'wof:id' , rsuffix='_right')"
   ]
  },
  {
   "cell_type": "code",
   "execution_count": 123,
   "metadata": {
    "collapsed": false
   },
   "outputs": [],
   "source": [
    "unique_concordances_fix_maybe_8['spell_check']=np.where(unique_concordances_fix_maybe_8['spell_check_right'].notnull(),unique_concordances_fix_maybe_8['spell_check_right'],unique_concordances_fix_maybe_8['spell_check'])"
   ]
  },
  {
   "cell_type": "code",
   "execution_count": 124,
   "metadata": {
    "collapsed": false
   },
   "outputs": [],
   "source": [
    "unique_concordances_fix_maybe_9 = unique_concordances_fix_maybe_8.drop(['leve_dist','leve_dist_actual','place','check','spell_check_right' ],1)"
   ]
  },
  {
   "cell_type": "code",
   "execution_count": 125,
   "metadata": {
    "collapsed": true
   },
   "outputs": [],
   "source": [
    "unique_concordances_fix_maybe_9.to_csv(\"..\\Analyzed_data\\\\final_titles_ids_all_status.csv\")"
   ]
  },
  {
   "cell_type": "code",
   "execution_count": 3,
   "metadata": {
    "collapsed": true
   },
   "outputs": [],
   "source": [
    "unique_concordances_fix_maybe_9 = read_data(\"..\\Analyzed_data\\\\final_titles_ids_all_status.csv\")"
   ]
  },
  {
   "cell_type": "code",
   "execution_count": 7,
   "metadata": {
    "collapsed": false
   },
   "outputs": [
    {
     "data": {
      "text/plain": [
       "22                               Brooklyn\n",
       "23                                  Bronx\n",
       "24                              Manhattan\n",
       "26                                 Queens\n",
       "29                  Dhaka Tejgaon Airport\n",
       "32                       Rajshahi Airport\n",
       "33                     Chittagong Airport\n",
       "34                  Osmany Sylhet Airport\n",
       "35        Zia International Airport Dhaka\n",
       "37                      Tinfouchy Airport\n",
       "38                       Oued Mia Airport\n",
       "42                      El Mellah Airport\n",
       "44                       Bou Sfer Airport\n",
       "48          El Abiodh Sidi Cheikh Airport\n",
       "49                       Laghouat Airport\n",
       "52                     Bou Chekif Airport\n",
       "53                         Ouakda Airport\n",
       "58                         Bechar Airport\n",
       "60                    Tamanrasset Airport\n",
       "64                       Hamaguir Airport\n",
       "65                      In Amguel Airport\n",
       "67                          Setif Airport\n",
       "71                        Tebessa Airport\n",
       "73                          Tiska Airport\n",
       "74                          Taher Airport\n",
       "78                      Touggourt Airport\n",
       "81                    Ech Cheliff Airport\n",
       "82                       Bobangui Airport\n",
       "83                  Bangui M Poko Airport\n",
       "85                     Ndele West Airport\n",
       "                       ...               \n",
       "259399                         Ballykelly\n",
       "259400                            Закупне\n",
       "259402                          Callaghan\n",
       "259404                             Camden\n",
       "259408                         Upper Tean\n",
       "259416                            Гусятин\n",
       "259418                           Кутківці\n",
       "259422                            Belmont\n",
       "259423                      Bellevue Hill\n",
       "259450             Корсунь-Шевченківський\n",
       "259452                         Wellington\n",
       "259463                           Clevedon\n",
       "259464                            Otahuhu\n",
       "259486                          Bomaderry\n",
       "259488                     Fredericksburg\n",
       "259496                         Wellington\n",
       "259497                              Bondi\n",
       "259500                         Camperdown\n",
       "259502                            Rotorua\n",
       "259514                        Wainuiomata\n",
       "259515                          Chinderah\n",
       "259526                       Whangaparaoa\n",
       "259531                           Blaxland\n",
       "259542                           Papakura\n",
       "259576                            Rotorua\n",
       "259579                     Baulkham Hills\n",
       "259590                          Blacktown\n",
       "259597                           Мелекине\n",
       "259611                            Rotorua\n",
       "259612                        Blair Athol\n",
       "Name: name, dtype: object"
      ]
     },
     "execution_count": 7,
     "metadata": {},
     "output_type": "execute_result"
    }
   ],
   "source": [
    "unique_concordances_fix_maybe_9[unique_concordances_fix_maybe_9['spell_check']!='OK']['name']"
   ]
  },
  {
   "cell_type": "markdown",
   "metadata": {},
   "source": [
    "#### Print for blog "
   ]
  },
  {
   "cell_type": "code",
   "execution_count": 127,
   "metadata": {
    "collapsed": false
   },
   "outputs": [
    {
     "data": {
      "text/html": [
       "<div>\n",
       "<table border=\"1\" class=\"dataframe\">\n",
       "  <thead>\n",
       "    <tr style=\"text-align: right;\">\n",
       "      <th></th>\n",
       "      <th>wof:name</th>\n",
       "      <th>wk:page</th>\n",
       "    </tr>\n",
       "  </thead>\n",
       "  <tbody>\n",
       "    <tr>\n",
       "      <th>3</th>\n",
       "      <td>South America</td>\n",
       "      <td>South America</td>\n",
       "    </tr>\n",
       "    <tr>\n",
       "      <th>32</th>\n",
       "      <td>Rajshahi Airport</td>\n",
       "      <td>List of airports in Bangladesh</td>\n",
       "    </tr>\n",
       "    <tr>\n",
       "      <th>39</th>\n",
       "      <td>Tafaraoui Airport</td>\n",
       "      <td>Oran Tafraoui Airport</td>\n",
       "    </tr>\n",
       "    <tr>\n",
       "      <th>49</th>\n",
       "      <td>Laghouat Airport</td>\n",
       "      <td>L'Mekrareg Airport</td>\n",
       "    </tr>\n",
       "    <tr>\n",
       "      <th>257</th>\n",
       "      <td>Sky Harbor Residential Airpark</td>\n",
       "      <td>Hernando Village Airpark</td>\n",
       "    </tr>\n",
       "    <tr>\n",
       "      <th>517</th>\n",
       "      <td>Marked Tree Municipal Airport</td>\n",
       "      <td>Arkansas Highway 308</td>\n",
       "    </tr>\n",
       "    <tr>\n",
       "      <th>905</th>\n",
       "      <td>Junction Airport</td>\n",
       "      <td>Grand Junction Regional Airport</td>\n",
       "    </tr>\n",
       "    <tr>\n",
       "      <th>1279</th>\n",
       "      <td>La Fonda Ranch Airport</td>\n",
       "      <td>Once Upon a Time in the West</td>\n",
       "    </tr>\n",
       "    <tr>\n",
       "      <th>73424</th>\n",
       "      <td>Woods of Eden Rock</td>\n",
       "      <td>Rock music</td>\n",
       "    </tr>\n",
       "    <tr>\n",
       "      <th>154819</th>\n",
       "      <td>Bronx</td>\n",
       "      <td>The Bronx</td>\n",
       "    </tr>\n",
       "  </tbody>\n",
       "</table>\n",
       "</div>"
      ],
      "text/plain": [
       "                              wof:name                          wk:page\n",
       "3                        South America                    South America\n",
       "32                    Rajshahi Airport   List of airports in Bangladesh\n",
       "39                   Tafaraoui Airport            Oran Tafraoui Airport\n",
       "49                    Laghouat Airport               L'Mekrareg Airport\n",
       "257     Sky Harbor Residential Airpark         Hernando Village Airpark\n",
       "517      Marked Tree Municipal Airport             Arkansas Highway 308\n",
       "905                   Junction Airport  Grand Junction Regional Airport\n",
       "1279            La Fonda Ranch Airport     Once Upon a Time in the West\n",
       "73424               Woods of Eden Rock                       Rock music\n",
       "154819                           Bronx                        The Bronx"
      ]
     },
     "execution_count": 127,
     "metadata": {},
     "output_type": "execute_result"
    }
   ],
   "source": [
    "test2=unique_concordances_fix_maybe_9[((unique_concordances_fix_maybe_9['name']=='South America')|\n",
    "                                   (unique_concordances_fix_maybe_9['wk:page']=='Warkworth')|\n",
    "                                   (unique_concordances_fix_maybe_9['name']=='Bronx')|\n",
    "                                   (unique_concordances_fix_maybe_9['name']=='Rajshahi Airport')|\n",
    "                                   (unique_concordances_fix_maybe_9['name']=='Tafaraoui Airport')|\n",
    "                                   (unique_concordances_fix_maybe_9['name']=='Laghouat Airport')|\n",
    "                                   (unique_concordances_fix_maybe_9['name']=='Sky Harbor Residential Airpark')|\n",
    "                                   (unique_concordances_fix_maybe_9['name']=='Marked Tree Municipal Airport')|\n",
    "                                   (unique_concordances_fix_maybe_9['name']=='Junction Airport')|\n",
    "                                   (unique_concordances_fix_maybe_9['name']=='La Fonda Ranch Airport')|\n",
    "                                   (unique_concordances_fix_maybe_9['name']=='Woods of Eden Rock')|\n",
    "                                   (unique_concordances_fix_maybe_9['name']=='Woods of Eden Rock'))]\n",
    "test3 = test2[test2['placetype']!='borough']\n",
    "test3['wof:name']=test3['name']\n",
    "out1=test3[['wof:name','wk:page']]\n",
    "out1.to_html(open('..\\..\\Blog_post_wikipedia\\images\\\\original.html', 'w'))\n",
    "out1"
   ]
  },
  {
   "cell_type": "code",
   "execution_count": 128,
   "metadata": {
    "collapsed": false
   },
   "outputs": [
    {
     "data": {
      "text/html": [
       "<div>\n",
       "<table border=\"1\" class=\"dataframe\">\n",
       "  <thead>\n",
       "    <tr style=\"text-align: right;\">\n",
       "      <th></th>\n",
       "      <th>wof:name</th>\n",
       "      <th>wk:page</th>\n",
       "      <th>correct</th>\n",
       "    </tr>\n",
       "  </thead>\n",
       "  <tbody>\n",
       "    <tr>\n",
       "      <th>3</th>\n",
       "      <td>South America</td>\n",
       "      <td>South America</td>\n",
       "      <td>OK</td>\n",
       "    </tr>\n",
       "    <tr>\n",
       "      <th>32</th>\n",
       "      <td>Rajshahi Airport</td>\n",
       "      <td>List of airports in Bangladesh</td>\n",
       "      <td>NO</td>\n",
       "    </tr>\n",
       "    <tr>\n",
       "      <th>39</th>\n",
       "      <td>Tafaraoui Airport</td>\n",
       "      <td>Oran Tafraoui Airport</td>\n",
       "      <td>OK</td>\n",
       "    </tr>\n",
       "    <tr>\n",
       "      <th>49</th>\n",
       "      <td>Laghouat Airport</td>\n",
       "      <td>L'Mekrareg Airport</td>\n",
       "      <td>maybe</td>\n",
       "    </tr>\n",
       "    <tr>\n",
       "      <th>257</th>\n",
       "      <td>Sky Harbor Residential Airpark</td>\n",
       "      <td>Hernando Village Airpark</td>\n",
       "      <td>maybe</td>\n",
       "    </tr>\n",
       "    <tr>\n",
       "      <th>517</th>\n",
       "      <td>Marked Tree Municipal Airport</td>\n",
       "      <td>Arkansas Highway 308</td>\n",
       "      <td>NO</td>\n",
       "    </tr>\n",
       "    <tr>\n",
       "      <th>905</th>\n",
       "      <td>Junction Airport</td>\n",
       "      <td>Grand Junction Regional Airport</td>\n",
       "      <td>maybe</td>\n",
       "    </tr>\n",
       "    <tr>\n",
       "      <th>1279</th>\n",
       "      <td>La Fonda Ranch Airport</td>\n",
       "      <td>Once Upon a Time in the West</td>\n",
       "      <td>NO</td>\n",
       "    </tr>\n",
       "    <tr>\n",
       "      <th>73424</th>\n",
       "      <td>Woods of Eden Rock</td>\n",
       "      <td>Rock music</td>\n",
       "      <td>NO</td>\n",
       "    </tr>\n",
       "    <tr>\n",
       "      <th>154819</th>\n",
       "      <td>Bronx</td>\n",
       "      <td>The Bronx</td>\n",
       "      <td>OK</td>\n",
       "    </tr>\n",
       "  </tbody>\n",
       "</table>\n",
       "</div>"
      ],
      "text/plain": [
       "                              wof:name                          wk:page  \\\n",
       "3                        South America                    South America   \n",
       "32                    Rajshahi Airport   List of airports in Bangladesh   \n",
       "39                   Tafaraoui Airport            Oran Tafraoui Airport   \n",
       "49                    Laghouat Airport               L'Mekrareg Airport   \n",
       "257     Sky Harbor Residential Airpark         Hernando Village Airpark   \n",
       "517      Marked Tree Municipal Airport             Arkansas Highway 308   \n",
       "905                   Junction Airport  Grand Junction Regional Airport   \n",
       "1279            La Fonda Ranch Airport     Once Upon a Time in the West   \n",
       "73424               Woods of Eden Rock                       Rock music   \n",
       "154819                           Bronx                        The Bronx   \n",
       "\n",
       "       correct  \n",
       "3           OK  \n",
       "32          NO  \n",
       "39          OK  \n",
       "49       maybe  \n",
       "257      maybe  \n",
       "517         NO  \n",
       "905      maybe  \n",
       "1279        NO  \n",
       "73424       NO  \n",
       "154819      OK  "
      ]
     },
     "execution_count": 128,
     "metadata": {},
     "output_type": "execute_result"
    }
   ],
   "source": [
    "test3 = test2[test2['placetype']!='borough']\n",
    "test3['wof:name']=test3['name']\n",
    "test3['correct']=test3['spell_check']\n",
    "test3.ix[(test3['name']=='Rajshahi Airport'), 'correct'] = 'NO'\n",
    "test3.ix[(test3['name']=='La Fonda Ranch Airport'), 'correct'] = 'NO'\n",
    "final_out = test3[['wof:name','wk:page', 'correct']]\n",
    "final_out.to_html(open('..\\..\\Blog_post_wikipedia\\images\\\\final.html', 'w'))\n",
    "final_out"
   ]
  },
  {
   "cell_type": "markdown",
   "metadata": {},
   "source": [
    " ### Save the names that were wrong"
   ]
  },
  {
   "cell_type": "code",
   "execution_count": 129,
   "metadata": {
    "collapsed": false
   },
   "outputs": [],
   "source": [
    "names_do_not_want=list(unique_concordances_fix_maybe_9[unique_concordances_fix_maybe_9['spell_check']!='OK']['name'])"
   ]
  },
  {
   "cell_type": "code",
   "execution_count": 130,
   "metadata": {
    "collapsed": false
   },
   "outputs": [],
   "source": [
    "with open('names_do_not_want', 'wb') as f:\n",
    "    pickle.dump(names_do_not_want, f)"
   ]
  },
  {
   "cell_type": "markdown",
   "metadata": {},
   "source": [
    "### Save final clean table for wikidata ids"
   ]
  },
  {
   "cell_type": "code",
   "execution_count": 131,
   "metadata": {
    "collapsed": false
   },
   "outputs": [],
   "source": [
    "final_WD_ID = unique_concordances_fix_maybe_9[(unique_concordances_fix_maybe_9['wd:id'].notnull())&(unique_concordances_fix_maybe_9['spell_check']=='OK')]\n",
    "final_WD_ID = final_WD_ID[['wof:id' , 'wd:id']]"
   ]
  },
  {
   "cell_type": "code",
   "execution_count": 132,
   "metadata": {
    "collapsed": false
   },
   "outputs": [],
   "source": [
    "final_WD_ID.to_csv(\"..\\OUTPUT_wd_id\\\\final_wd_ids_clean.csv\")"
   ]
  },
  {
   "cell_type": "markdown",
   "metadata": {},
   "source": [
    "###  Generate Urls"
   ]
  },
  {
   "cell_type": "code",
   "execution_count": 133,
   "metadata": {
    "collapsed": false
   },
   "outputs": [],
   "source": [
    "final_titles = unique_concordances_fix_maybe_9[(unique_concordances_fix_maybe_9['wk:page'].notnull())&(unique_concordances_fix_maybe_9['spell_check']=='OK')]\n",
    "final_titles['url'] = 'https://en.wikipedia.org/wiki/'+final_titles['wk:page']\n",
    "final_titles = final_titles[['wof:id' , 'wk:page', 'url']]"
   ]
  },
  {
   "cell_type": "code",
   "execution_count": 134,
   "metadata": {
    "collapsed": true
   },
   "outputs": [],
   "source": [
    "final_titles.to_csv(\"..\\OUTPUTS_titles_word_count\\\\final_titles_clean.csv\")"
   ]
  },
  {
   "cell_type": "markdown",
   "metadata": {},
   "source": [
    "### Print placetypes for blog"
   ]
  },
  {
   "cell_type": "code",
   "execution_count": 135,
   "metadata": {
    "collapsed": false
   },
   "outputs": [],
   "source": [
    "names_wrong = unique_concordances_fix_maybe_9[((unique_concordances_fix_maybe_9['wk:page']=='1974 Super Outbreak')|(unique_concordances_fix_maybe_9['name']=='City of Friendship Airport')|\n",
    "                                 (unique_concordances_fix_maybe_9['name']=='Flying Crown Airport')|(unique_concordances_fix_maybe_9['name']=='Amado Bahia')|\n",
    "                                 (unique_concordances_fix_maybe_9['wk:page']=='Knapp Gardens Plat')|(unique_concordances_fix_maybe_9['wk:page']=='Pshizov')|\n",
    "                                 (unique_concordances_fix_maybe_9['name']=='Dhaka Tejgaon Airport')|(unique_concordances_fix_maybe_9['name']=='Grafs First'))]\n",
    "names_wrong.ix[(names_wrong['name']=='Amado Bahia'), 'spell_check'] = 'NO'\n",
    "names_wrong['wof:name']=names_wrong['name']\n",
    "names_wrong['correct']=names_wrong['spell_check']\n",
    "airports = names_wrong[['wof:name','wk:page', 'correct']]\n",
    "import sys \n",
    "reload(sys) \n",
    "sys.setdefaultencoding('utf-8')\n",
    "airports.to_html(open('..\\..\\Blog_post_wikipedia\\images\\\\lists_music.html', 'w'))\n"
   ]
  },
  {
   "cell_type": "code",
   "execution_count": 136,
   "metadata": {
    "collapsed": false
   },
   "outputs": [
    {
     "data": {
      "text/html": [
       "<div>\n",
       "<table border=\"1\" class=\"dataframe\">\n",
       "  <thead>\n",
       "    <tr style=\"text-align: right;\">\n",
       "      <th></th>\n",
       "      <th>wof:name</th>\n",
       "      <th>wk:page</th>\n",
       "      <th>correct</th>\n",
       "    </tr>\n",
       "  </thead>\n",
       "  <tbody>\n",
       "    <tr>\n",
       "      <th>29</th>\n",
       "      <td>Dhaka Tejgaon Airport</td>\n",
       "      <td>List of airports in Bangladesh</td>\n",
       "      <td>NO</td>\n",
       "    </tr>\n",
       "    <tr>\n",
       "      <th>123</th>\n",
       "      <td>Flying Crown Airport</td>\n",
       "      <td>List of airports in Canada (A–B)</td>\n",
       "      <td>NO</td>\n",
       "    </tr>\n",
       "    <tr>\n",
       "      <th>164</th>\n",
       "      <td>Wawasee Airport</td>\n",
       "      <td>1974 Super Outbreak</td>\n",
       "      <td>NO</td>\n",
       "    </tr>\n",
       "    <tr>\n",
       "      <th>1345</th>\n",
       "      <td>City of Friendship Airport</td>\n",
       "      <td>National Airlines (1934–1980)</td>\n",
       "      <td>NO</td>\n",
       "    </tr>\n",
       "    <tr>\n",
       "      <th>40303</th>\n",
       "      <td>Amado Bahia</td>\n",
       "      <td>Timeline of Salvador, Bahia</td>\n",
       "      <td>NO</td>\n",
       "    </tr>\n",
       "    <tr>\n",
       "      <th>78901</th>\n",
       "      <td>Grafs First</td>\n",
       "      <td>Rolf Graf (musician)</td>\n",
       "      <td>NO</td>\n",
       "    </tr>\n",
       "  </tbody>\n",
       "</table>\n",
       "</div>"
      ],
      "text/plain": [
       "                         wof:name                           wk:page correct\n",
       "29          Dhaka Tejgaon Airport    List of airports in Bangladesh      NO\n",
       "123          Flying Crown Airport  List of airports in Canada (AΓÇôB)      NO\n",
       "164               Wawasee Airport               1974 Super Outbreak      NO\n",
       "1345   City of Friendship Airport     National Airlines (1934ΓÇô1980)      NO\n",
       "40303                 Amado Bahia       Timeline of Salvador, Bahia      NO\n",
       "78901                 Grafs First              Rolf Graf (musician)      NO"
      ]
     },
     "execution_count": 136,
     "metadata": {},
     "output_type": "execute_result"
    }
   ],
   "source": [
    "airports"
   ]
  },
  {
   "cell_type": "code",
   "execution_count": 137,
   "metadata": {
    "collapsed": false
   },
   "outputs": [
    {
     "data": {
      "text/html": [
       "<div>\n",
       "<table border=\"1\" class=\"dataframe\">\n",
       "  <thead>\n",
       "    <tr style=\"text-align: right;\">\n",
       "      <th></th>\n",
       "      <th>wof:name</th>\n",
       "      <th>wk:page</th>\n",
       "      <th>correct</th>\n",
       "    </tr>\n",
       "  </thead>\n",
       "  <tbody>\n",
       "    <tr>\n",
       "      <th>37</th>\n",
       "      <td>Tinfouchy Airport</td>\n",
       "      <td>Tinfouchy</td>\n",
       "      <td>NO</td>\n",
       "    </tr>\n",
       "    <tr>\n",
       "      <th>2317</th>\n",
       "      <td>Logan County Airport</td>\n",
       "      <td>Logan Airport (disambiguation)</td>\n",
       "      <td>NO</td>\n",
       "    </tr>\n",
       "    <tr>\n",
       "      <th>13206</th>\n",
       "      <td>Dolní Újezd</td>\n",
       "      <td>Dolní Újezd (Svitavy District)</td>\n",
       "      <td>OK</td>\n",
       "    </tr>\n",
       "    <tr>\n",
       "      <th>229925</th>\n",
       "      <td>Ribnica</td>\n",
       "      <td>Ribnica, Ribnica</td>\n",
       "      <td>OK</td>\n",
       "    </tr>\n",
       "  </tbody>\n",
       "</table>\n",
       "</div>"
      ],
      "text/plain": [
       "                    wof:name                         wk:page correct\n",
       "37         Tinfouchy Airport                       Tinfouchy      NO\n",
       "2317    Logan County Airport  Logan Airport (disambiguation)      NO\n",
       "13206            Doln├¡ ├Üjezd  Doln├¡ ├Üjezd (Svitavy District)      OK\n",
       "229925               Ribnica                Ribnica, Ribnica      OK"
      ]
     },
     "execution_count": 137,
     "metadata": {},
     "output_type": "execute_result"
    }
   ],
   "source": [
    "district_ok= unique_concordances_fix_maybe_9[((unique_concordances_fix_maybe_9['wk:page'].str.contains('Dolní Újezd'))|\n",
    "                                             (unique_concordances_fix_maybe_9['wk:page'].str.contains('Ribnica'))|\n",
    "                                             (unique_concordances_fix_maybe_9['name'].str.contains('Tinfouchy Airport'))|\n",
    "                                             (unique_concordances_fix_maybe_9['name']=='Logan County Airport'))]\n",
    "district_ok=district_ok[(district_ok['placetype']!='region')]\n",
    "district_ok=district_ok[(district_ok['wk:page']!='Ribnica na Pohorju')]\n",
    "district_ok=district_ok[district_ok['wof:id']!=102522829]\n",
    "district_ok.ix[(district_ok['name']=='Tinfouchy Airport'), 'spell_check'] = 'NO'\n",
    "district_ok['wof:name']=district_ok['name']\n",
    "district_ok['correct']=district_ok['spell_check']\n",
    "district_ok=district_ok[['wof:name','wk:page', 'correct']]\n",
    "district_ok.to_html(open('..\\..\\Blog_post_wikipedia\\images\\\\airports.html', 'w'))\n",
    "district_ok"
   ]
  },
  {
   "cell_type": "code",
   "execution_count": 138,
   "metadata": {
    "collapsed": false
   },
   "outputs": [
    {
     "data": {
      "text/html": [
       "<div>\n",
       "<table border=\"1\" class=\"dataframe\">\n",
       "  <thead>\n",
       "    <tr style=\"text-align: right;\">\n",
       "      <th></th>\n",
       "      <th>wof:name</th>\n",
       "      <th>wk:page</th>\n",
       "      <th>placetype</th>\n",
       "      <th>correct</th>\n",
       "    </tr>\n",
       "  </thead>\n",
       "  <tbody>\n",
       "    <tr>\n",
       "      <th>12</th>\n",
       "      <td>China</td>\n",
       "      <td>China</td>\n",
       "      <td>country</td>\n",
       "      <td>OK</td>\n",
       "    </tr>\n",
       "    <tr>\n",
       "      <th>153054</th>\n",
       "      <td>China</td>\n",
       "      <td>China</td>\n",
       "      <td>county</td>\n",
       "      <td>NO</td>\n",
       "    </tr>\n",
       "    <tr>\n",
       "      <th>184843</th>\n",
       "      <td>China</td>\n",
       "      <td>China, Nuevo León</td>\n",
       "      <td>locality</td>\n",
       "      <td>OK</td>\n",
       "    </tr>\n",
       "    <tr>\n",
       "      <th>208292</th>\n",
       "      <td>China</td>\n",
       "      <td>China, Texas</td>\n",
       "      <td>locality</td>\n",
       "      <td>OK</td>\n",
       "    </tr>\n",
       "  </tbody>\n",
       "</table>\n",
       "</div>"
      ],
      "text/plain": [
       "       wof:name            wk:page placetype correct\n",
       "12        China              China   country      OK\n",
       "153054    China              China    county      NO\n",
       "184843    China  China, Nuevo Le├│n  locality      OK\n",
       "208292    China       China, Texas  locality      OK"
      ]
     },
     "execution_count": 138,
     "metadata": {},
     "output_type": "execute_result"
    }
   ],
   "source": [
    "placetype = unique_concordances_fix_maybe_9[unique_concordances_fix_maybe_9['name']=='China']\n",
    "placetype = placetype[placetype['placetype']!='empire']\n",
    "placetype['wof:name']=placetype['name']\n",
    "placetype['correct']=placetype['spell_check']\n",
    "placetype_out = placetype[['wof:name', 'wk:page', 'placetype','correct']]\n",
    "placetype_out.to_html(open('..\\..\\Blog_post_wikipedia\\images\\\\placetype.html', 'w'))\n",
    "placetype_out\n"
   ]
  },
  {
   "cell_type": "code",
   "execution_count": 139,
   "metadata": {
    "collapsed": false
   },
   "outputs": [
    {
     "data": {
      "text/html": [
       "<div>\n",
       "<table border=\"1\" class=\"dataframe\">\n",
       "  <thead>\n",
       "    <tr style=\"text-align: right;\">\n",
       "      <th></th>\n",
       "      <th>wof:id</th>\n",
       "      <th>wof:name</th>\n",
       "      <th>wk:page</th>\n",
       "      <th>wd:id</th>\n",
       "    </tr>\n",
       "  </thead>\n",
       "  <tbody>\n",
       "    <tr>\n",
       "      <th>0</th>\n",
       "      <td>102191569</td>\n",
       "      <td>Asia</td>\n",
       "      <td>Asia</td>\n",
       "      <td>Q48</td>\n",
       "    </tr>\n",
       "    <tr>\n",
       "      <th>17</th>\n",
       "      <td>421166797</td>\n",
       "      <td>Georgia</td>\n",
       "      <td>Georgia</td>\n",
       "      <td>Q4962</td>\n",
       "    </tr>\n",
       "    <tr>\n",
       "      <th>18</th>\n",
       "      <td>421180189</td>\n",
       "      <td>Somalia</td>\n",
       "      <td>Somalia</td>\n",
       "      <td>Q1045</td>\n",
       "    </tr>\n",
       "    <tr>\n",
       "      <th>19</th>\n",
       "      <td>421185849</td>\n",
       "      <td>Kazakhstan</td>\n",
       "      <td>Kazakhstan</td>\n",
       "      <td>Q232</td>\n",
       "    </tr>\n",
       "    <tr>\n",
       "      <th>21</th>\n",
       "      <td>421202109</td>\n",
       "      <td>San Marino</td>\n",
       "      <td>San Marino</td>\n",
       "      <td>Q238</td>\n",
       "    </tr>\n",
       "    <tr>\n",
       "      <th>25</th>\n",
       "      <td>421205775</td>\n",
       "      <td>Staten Island</td>\n",
       "      <td>Staten Island</td>\n",
       "      <td>Q18432</td>\n",
       "    </tr>\n",
       "    <tr>\n",
       "      <th>100</th>\n",
       "      <td>102521867</td>\n",
       "      <td>Brooks Air Force Base</td>\n",
       "      <td>Brooks Air Force Base</td>\n",
       "      <td>Q4974968</td>\n",
       "    </tr>\n",
       "    <tr>\n",
       "      <th>103</th>\n",
       "      <td>102521877</td>\n",
       "      <td>Los Angeles Air Force Base</td>\n",
       "      <td>Los Angeles Air Force Base</td>\n",
       "      <td>Q6681941</td>\n",
       "    </tr>\n",
       "  </tbody>\n",
       "</table>\n",
       "</div>"
      ],
      "text/plain": [
       "        wof:id                    wof:name                     wk:page  \\\n",
       "0    102191569                        Asia                        Asia   \n",
       "17   421166797                     Georgia                     Georgia   \n",
       "18   421180189                     Somalia                     Somalia   \n",
       "19   421185849                  Kazakhstan                  Kazakhstan   \n",
       "21   421202109                  San Marino                  San Marino   \n",
       "25   421205775               Staten Island               Staten Island   \n",
       "100  102521867       Brooks Air Force Base       Brooks Air Force Base   \n",
       "103  102521877  Los Angeles Air Force Base  Los Angeles Air Force Base   \n",
       "\n",
       "        wd:id  \n",
       "0         Q48  \n",
       "17      Q4962  \n",
       "18      Q1045  \n",
       "19       Q232  \n",
       "21       Q238  \n",
       "25     Q18432  \n",
       "100  Q4974968  \n",
       "103  Q6681941  "
      ]
     },
     "execution_count": 139,
     "metadata": {},
     "output_type": "execute_result"
    }
   ],
   "source": [
    "wd_ids = unique_concordances_fix_maybe_9[(unique_concordances_fix_maybe_9['name']=='Georgia')|\n",
    "                                        (unique_concordances_fix_maybe_9['name']=='Somalia')|\n",
    "                                        (unique_concordances_fix_maybe_9['name']=='Kazakhstan')|\n",
    "                                        (unique_concordances_fix_maybe_9['wk:page']=='Staten Island')|\n",
    "                                        (unique_concordances_fix_maybe_9['name']=='San Marino')|\n",
    "                                        (unique_concordances_fix_maybe_9['name']=='Brooks Air Force Base')|\n",
    "                                        (unique_concordances_fix_maybe_9['name']=='Los Angeles Air Force Base')|\n",
    "                                        (unique_concordances_fix_maybe_9['name']=='Asia')]\n",
    "wd_ids=wd_ids[(wd_ids['wk:page']!='San Marino, California')]\n",
    "wd_ids=wd_ids[(wd_ids['wk:page']!='Georgia (country)')]\n",
    "wd_ids=wd_ids[(wd_ids['wk:page']!='City of San Marino')]\n",
    "wd_ids['wof:name']=wd_ids['name']\n",
    "wd_ids=find_unique(wd_ids,'wk:page')\n",
    "wd_ids = wd_ids[['wof:id', 'wof:name', 'wk:page', 'wd:id']]\n",
    "wd_ids.to_html(open('..\\..\\Blog_post_wikipedia\\images\\\\wd_ids.html', 'w'))\n",
    "wd_ids"
   ]
  },
  {
   "cell_type": "code",
   "execution_count": null,
   "metadata": {
    "collapsed": true
   },
   "outputs": [],
   "source": []
  },
  {
   "cell_type": "code",
   "execution_count": null,
   "metadata": {
    "collapsed": true
   },
   "outputs": [],
   "source": []
  }
 ],
 "metadata": {
  "kernelspec": {
   "display_name": "Python 2",
   "language": "python",
   "name": "python2"
  },
  "language_info": {
   "codemirror_mode": {
    "name": "ipython",
    "version": 2
   },
   "file_extension": ".py",
   "mimetype": "text/x-python",
   "name": "python",
   "nbconvert_exporter": "python",
   "pygments_lexer": "ipython2",
   "version": "2.7.11"
  }
 },
 "nbformat": 4,
 "nbformat_minor": 0
}
